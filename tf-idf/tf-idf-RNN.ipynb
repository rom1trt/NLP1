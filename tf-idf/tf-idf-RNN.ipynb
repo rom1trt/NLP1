{
 "cells": [
  {
   "cell_type": "code",
   "execution_count": 1,
   "metadata": {},
   "outputs": [
    {
     "name": "stderr",
     "output_type": "stream",
     "text": [
      "2024-04-01 22:09:52.075751: I external/local_tsl/tsl/cuda/cudart_stub.cc:32] Could not find cuda drivers on your machine, GPU will not be used.\n",
      "2024-04-01 22:09:52.132914: I external/local_tsl/tsl/cuda/cudart_stub.cc:32] Could not find cuda drivers on your machine, GPU will not be used.\n",
      "2024-04-01 22:09:52.365030: I tensorflow/core/platform/cpu_feature_guard.cc:210] This TensorFlow binary is optimized to use available CPU instructions in performance-critical operations.\n",
      "To enable the following instructions: AVX2 FMA, in other operations, rebuild TensorFlow with the appropriate compiler flags.\n",
      "2024-04-01 22:09:54.880974: W tensorflow/compiler/tf2tensorrt/utils/py_utils.cc:38] TF-TRT Warning: Could not find TensorRT\n",
      "2024-04-01 22:11:17.873604: W external/local_tsl/tsl/framework/cpu_allocator_impl.cc:83] Allocation of 392335424 exceeds 10% of free system memory.\n",
      "2024-04-01 22:11:19.537275: W external/local_tsl/tsl/framework/cpu_allocator_impl.cc:83] Allocation of 98083856 exceeds 10% of free system memory.\n",
      "2024-04-01 22:11:20.519109: W external/local_tsl/tsl/framework/cpu_allocator_impl.cc:83] Allocation of 196167712 exceeds 10% of free system memory.\n",
      "2024-04-01 22:11:21.294230: W external/local_tsl/tsl/framework/cpu_allocator_impl.cc:83] Allocation of 196167704 exceeds 10% of free system memory.\n",
      "2024-04-01 22:11:21.339179: W external/local_tsl/tsl/framework/cpu_allocator_impl.cc:83] Allocation of 196167704 exceeds 10% of free system memory.\n"
     ]
    },
    {
     "name": "stdout",
     "output_type": "stream",
     "text": [
      "Epoch 1/10\n"
     ]
    }
   ],
   "source": [
    "import pandas as pd\n",
    "import numpy as np\n",
    "from sklearn.model_selection import train_test_split\n",
    "from sklearn.feature_extraction.text import TfidfVectorizer\n",
    "import tensorflow as tf\n",
    "from tensorflow.keras.models import Sequential\n",
    "from tensorflow.keras.layers import Embedding, LSTM, Dense\n",
    "\n",
    "# Chargement des données\n",
    "reviews_df = pd.read_csv('../_data/Reviews.csv')\n",
    "\n",
    "# Vectorisation TF-IDF\n",
    "tfidf_vectorizer = TfidfVectorizer()\n",
    "tfidf_matrix = tfidf_vectorizer.fit_transform(reviews_df['Text'])\n",
    "\n",
    "# Division des données en ensembles d'entraînement et de test\n",
    "X_train, X_test, y_train, y_test = train_test_split(tfidf_matrix, reviews_df['Score'], test_size=0.2, random_state=42)\n",
    "\n",
    "# Construction du modèle RNN\n",
    "vocab_size = len(tfidf_vectorizer.vocabulary_) + 1\n",
    "embedding_dim = 100\n",
    "model = Sequential()\n",
    "model.add(Embedding(vocab_size, embedding_dim))\n",
    "model.add(LSTM(128))\n",
    "model.add(Dense(1, activation='linear'))\n",
    "\n",
    "# Compilation du modèle\n",
    "model.compile(loss='mean_squared_error', optimizer='adam')\n",
    "\n",
    "# Entraînement du modèle\n",
    "model.fit(X_train, y_train, epochs=10, batch_size=32, validation_data=(X_test, y_test))"
   ]
  }
 ],
 "metadata": {
  "kernelspec": {
   "display_name": "nlp-env",
   "language": "python",
   "name": "python3"
  },
  "language_info": {
   "codemirror_mode": {
    "name": "ipython",
    "version": 3
   },
   "file_extension": ".py",
   "mimetype": "text/x-python",
   "name": "python",
   "nbconvert_exporter": "python",
   "pygments_lexer": "ipython3",
   "version": "3.10.12"
  }
 },
 "nbformat": 4,
 "nbformat_minor": 2
}

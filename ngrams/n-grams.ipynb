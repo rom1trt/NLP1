{
 "cells": [
  {
   "cell_type": "markdown",
   "id": "81888c53",
   "metadata": {},
   "source": [
    "# Ngrams basic tokenizer"
   ]
  },
  {
   "cell_type": "code",
   "execution_count": 6,
   "id": "9e1048ed",
   "metadata": {},
   "outputs": [],
   "source": [
    "import sys\n",
    "sys.path.append('../')\n",
    "from sklearn.model_selection import train_test_split\n",
    "import numpy as np\n",
    "import pandas as pd\n",
    "import sklearn as sk\n",
    "from collections import Counter\n",
    "#Import all libraries\n",
    "from collections import defaultdict\n",
    "from collections import  defaultdict\n",
    "import math\n",
    "import random"
   ]
  },
  {
   "cell_type": "code",
   "execution_count": 7,
   "id": "6df09f4a",
   "metadata": {},
   "outputs": [],
   "source": [
    "data = pd.read_csv('../_data/Reviews.csv') # Loading the dataset\n",
    "X, y = data['Text'], data['Score'] # Separating the data into input and output\n",
    "\n",
    "# Function to tokenize each review in X_train\n",
    "# puts them in a list\n",
    "def tokenize_by_space(X_train):\n",
    "    token_list = [review.split() for review in X_train]\n",
    "    flattened_X_train = [word for review in token_list for word in review]\n",
    "    return flattened_X_train\n",
    "\n",
    "def tokenize_all_lower(X_train):\n",
    "    token_list = [review.lower().split() for review in X_train]\n",
    "    flattened_X_train = [word for review in token_list for word in review]\n",
    "    return flattened_X_train\n",
    "\n",
    "def tokenize_by_space_and_punctuation(X_train):\n",
    "    token_list = [review.lower().replace('.', ' . ').replace(',', ' , ').split() for review in X_train]\n",
    "    flattened_X_train = [word for review in token_list for word in review]\n",
    "    return flattened_X_train\n",
    "\n",
    "\n",
    "smaller_X = X # Add [:100] to get only the first 100 rows of the dataset\n",
    "X_train, X_test = train_test_split(smaller_X, test_size=0.2, random_state=42) #split into X_train and X_test \n",
    "# Calculate the length of each quarter\n",
    "quarter_length = len(X_train) // 4\n",
    "\n",
    "\n"
   ]
  },
  {
   "cell_type": "code",
   "execution_count": 8,
   "id": "d61995cf",
   "metadata": {},
   "outputs": [
    {
     "name": "stdout",
     "output_type": "stream",
     "text": [
      "1/4 done\n"
     ]
    }
   ],
   "source": [
    "# Apply the tokenize function in 4 batches to avoid crashing the kernel\n",
    "X_1_train = tokenize_by_space(X_train[:quarter_length])\n",
    "print('1/4 done')"
   ]
  },
  {
   "cell_type": "code",
   "execution_count": 9,
   "id": "b11a1573",
   "metadata": {},
   "outputs": [
    {
     "name": "stdout",
     "output_type": "stream",
     "text": [
      "2/4 done\n"
     ]
    }
   ],
   "source": [
    "X_2_train = tokenize_by_space(X_train[quarter_length:2*quarter_length])\n",
    "print('2/4 done')"
   ]
  },
  {
   "cell_type": "code",
   "execution_count": 10,
   "id": "d9cb7d54",
   "metadata": {},
   "outputs": [
    {
     "name": "stdout",
     "output_type": "stream",
     "text": [
      "3/4 done\n"
     ]
    }
   ],
   "source": [
    "X_3_train = tokenize_by_space(X_train[2*quarter_length:3*quarter_length])\n",
    "print('3/4 done')"
   ]
  },
  {
   "cell_type": "code",
   "execution_count": null,
   "id": "2b1cc371",
   "metadata": {},
   "outputs": [],
   "source": [
    "X_4_train = tokenize_by_space(X_train[3*quarter_length:])\n",
    "print('4/4 done')"
   ]
  },
  {
   "cell_type": "code",
   "execution_count": null,
   "id": "60784744",
   "metadata": {},
   "outputs": [],
   "source": [
    "train = X_1_train + X_2_train + X_3_train + X_4_train\n"
   ]
  },
  {
   "cell_type": "code",
   "execution_count": null,
   "id": "cfc8b409",
   "metadata": {},
   "outputs": [],
   "source": [
    "test = tokenize_by_space(X_test)\n"
   ]
  },
  {
   "cell_type": "code",
   "execution_count": null,
   "id": "c523d2de",
   "metadata": {},
   "outputs": [],
   "source": [
    "def Create_And_Count_ngrams(tokens, n):\n",
    "    # Creates n-grams and counts their occurrences\n",
    "    ngram_counts = defaultdict(int)\n",
    "    \n",
    "    for i in range(len(tokens) - n + 1):\n",
    "        ngram = tuple(tokens[i:i+n])\n",
    "        ngram_counts[ngram] += 1\n",
    "    \n",
    "    return ngram_counts\n",
    "    \n",
    "\n",
    "def add_laplace(ngram, k):\n",
    "    # Applies Laplace smoothing \n",
    "    for key in ngram:\n",
    "        ngram[key] += k\n",
    "\n",
    "def Create_ngram(train, test, n, k=0.00001):\n",
    "# Creates the needed n-gram\n",
    "    \n",
    "    token_set = set(train)  # To not have duplicate tokens\n",
    "    len_token_set = len(token_set)\n",
    "    \n",
    "    # Step 1: Count n-grams and (n-1)-grams \n",
    "    tmp_ng_with_count = Create_And_Count_ngrams(train, n)\n",
    "    prefix_count = Create_And_Count_ngrams(train, n - 1)\n",
    "    final_ng = defaultdict(float)\n",
    "\n",
    "    # Step 2: Apply Laplace smoothing\n",
    "    add_laplace(tmp_ng_with_count, k)\n",
    "    add_laplace(prefix_count, k)\n",
    "   \n",
    "    # Step 3: Calculate n-gram probabilities\n",
    "    for ng in tmp_ng_with_count:\n",
    "        final_ng[ng] = (tmp_ng_with_count[ng] + k) / (prefix_count[ng[:-1]] + k * len_token_set)\n",
    "\n",
    "    # Step 4: Fixing unseen data that exists in the test set\n",
    "    for i in range(len(test) - n + 1):\n",
    "        ng = tuple(test[i:i + n])\n",
    "        if ng not in tmp_ng_with_count:\n",
    "            final_ng[ng] = k / (prefix_count[ng[:-1]] + k * len_token_set)\n",
    "    return final_ng\n",
    "\n",
    "def greedy_sampling(context, ngram_probabilities, n, max_length=50):\n",
    "    # Take the most probable option only\n",
    "    sentence = []\n",
    "    sentence.extend(tuple(context[-(n):]))\n",
    "\n",
    "    # Check is context toot small\n",
    "    if len(context) < (n-1):\n",
    "        print(\"context too small\")\n",
    "        return sentence\n",
    "\n",
    "    context = tuple(context[-(n-1):])  \n",
    "    \n",
    "    for _ in range(max_length):\n",
    "        probs = {}\n",
    "        \n",
    "        for token in ngram_probabilities:\n",
    "            if token[:n-1] == context:\n",
    "                probs[token[-1]] = ngram_probabilities[token]\n",
    "\n",
    "        if not probs:\n",
    "            print(\"No token possible in context\")\n",
    "            return sentence\n",
    "\n",
    "        # For greedy algorithm\n",
    "        best_token = max(probs, key=probs.get)  \n",
    "\n",
    "        if best_token not in probs:\n",
    "            print(\"No best token possible\")\n",
    "            return sentence\n",
    "\n",
    "        sentence.append(best_token)\n",
    "        context = context[1:] + (best_token,) \n",
    "\n",
    "    return sentence\n",
    "\n",
    "import random\n",
    "\n",
    "def top_k(context, ngram_probabilities, n, max_length=50, k=1):\n",
    "    # Top k version. if k = 1, same result as greedy\n",
    "    sentence = []\n",
    "    sentence.extend(tuple(context[-(n):]))\n",
    "\n",
    "    # Check if context too small\n",
    "    if len(context) < (n-1):\n",
    "        print(\"context too small\")\n",
    "        return sentence\n",
    "\n",
    "    context = tuple(context[-(n-1):])  \n",
    "    \n",
    "    for _ in range(max_length):\n",
    "        probs = {}\n",
    "        \n",
    "        for token in ngram_probabilities:\n",
    "            if token[:n-1] == context:\n",
    "                probs[token[-1]] = ngram_probabilities[token]\n",
    "\n",
    "        if not probs:\n",
    "            print(\"No token possible in context\")\n",
    "            return sentence\n",
    "\n",
    "        # Selecting top k tokens probabilistically\n",
    "        top_k_tokens = sorted(probs, key=probs.get, reverse=True)[:k]\n",
    "\n",
    "        token_weights = [probs[token] for token in top_k_tokens]\n",
    "        best_token = random.choices(top_k_tokens, weights=token_weights, k=1)[0]\n",
    "\n",
    "\n",
    "        if best_token not in probs:\n",
    "            print(\"No best token possible\")\n",
    "            return sentence\n",
    "\n",
    "        sentence.append(best_token)\n",
    "        context = context[1:] + (best_token,) \n",
    "\n",
    "    return sentence\n",
    "\n",
    "def calculate_perplexity(test, ngram, n):\n",
    "    # Calculates perplexity\n",
    "    log_probability_sum = 0\n",
    "    ngram_count = 0\n",
    "    \n",
    "    for i in range(len(test)-n+1):\n",
    "        log_probability_sum += math.log2(ngram[tuple(test[i:i+n])])\n",
    "        ngram_count += 1\n",
    "    \n",
    "    average_log_probability = -log_probability_sum / ngram_count\n",
    "    perplexity = math.pow(2, average_log_probability)\n",
    "    \n",
    "    return perplexity\n",
    "\n",
    "def calculate_coverage(test_data, ngram_probabilities):\n",
    "    # Count the number of n-grams in the test data\n",
    "    total_ngrams = len(test_data) - (n - 1) * len(test_data)\n",
    "    \n",
    "    # Check if there are n-grams in the test data\n",
    "    if total_ngrams == 0:\n",
    "        return 0\n",
    "    \n",
    "    # Count the number of n-grams covered by the n-gram model\n",
    "    covered_ngrams = sum(1 for ng in test_data if ng in ngram_probabilities)\n",
    "    \n",
    "    # Calculate coverage percentage\n",
    "    coverage_percentage = (covered_ngrams / total_ngrams) * 100\n",
    "    \n",
    "    return coverage_percentage\n",
    "\n"
   ]
  },
  {
   "cell_type": "code",
   "execution_count": null,
   "id": "a29c7799",
   "metadata": {},
   "outputs": [],
   "source": [
    "n = 3 # Choose the desired n-gram size\n",
    "k = 1  # Choose the desired smoothing factor\n",
    "k2 = 5  # Choose the desired top k value\n",
    "\n",
    "\n",
    "# Create n-gram probabilities using the dense matrix\n",
    "ngram_probabilities = Create_ngram(train,test, n, k)\n",
    "\n",
    "# Use ngram_probabilities for further processing, such as perplexity calculation or sampling"
   ]
  },
  {
   "cell_type": "code",
   "execution_count": null,
   "id": "00746323",
   "metadata": {},
   "outputs": [],
   "source": [
    "from collections import Counter\n",
    "\n",
    "# Calculate perplexity for the training data\n",
    "train_perplexity = calculate_perplexity(train, ngram_probabilities, n)\n",
    "print(f\"Training Perplexity: {train_perplexity}\")\n",
    "\n",
    "# Calculate perplexity for the test data\n",
    "test_perplexity = calculate_perplexity(test, ngram_probabilities, n)\n",
    "print(f\"Test Perplexity: {test_perplexity}\")"
   ]
  },
  {
   "cell_type": "code",
   "execution_count": null,
   "id": "6b0f6ade",
   "metadata": {},
   "outputs": [],
   "source": [
    "\n",
    "# Calculate coverage\n",
    "coverage = calculate_coverage(test, ngram_probabilities)\n",
    "print(f\"Coverage: {coverage:.2f}%\")"
   ]
  },
  {
   "cell_type": "code",
   "execution_count": null,
   "id": "7a9d8cd8",
   "metadata": {},
   "outputs": [],
   "source": [
    "context = ['I','think']\n",
    "print(top_k(context, ngram_probabilities, n, 50, k2))\n"
   ]
  },
  {
   "cell_type": "code",
   "execution_count": null,
   "id": "623bfcea",
   "metadata": {},
   "outputs": [],
   "source": [
    "context = ['I','think']\n",
    "print(greedy_sampling(context, ngram_probabilities, n))"
   ]
  },
  {
   "cell_type": "code",
   "execution_count": null,
   "id": "9a3f0e91",
   "metadata": {},
   "outputs": [],
   "source": []
  }
 ],
 "metadata": {
  "kernelspec": {
   "display_name": "Python 3 (ipykernel)",
   "language": "python",
   "name": "python3"
  },
  "language_info": {
   "codemirror_mode": {
    "name": "ipython",
    "version": 3
   },
   "file_extension": ".py",
   "mimetype": "text/x-python",
   "name": "python",
   "nbconvert_exporter": "python",
   "pygments_lexer": "ipython3",
   "version": "3.10.12"
  }
 },
 "nbformat": 4,
 "nbformat_minor": 5
}

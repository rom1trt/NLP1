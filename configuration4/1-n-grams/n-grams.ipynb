{
 "cells": [
  {
   "cell_type": "markdown",
   "id": "81888c53",
   "metadata": {},
   "source": [
    "# NLTK TOKENIZER AND TF-IDF VECTORIZER"
   ]
  },
  {
   "cell_type": "code",
   "execution_count": 27,
   "id": "9e1048ed",
   "metadata": {},
   "outputs": [],
   "source": [
    "import sys\n",
    "sys.path.append('../')\n",
    "from tokenizer import tokenizer\n",
    "from vectorizer import vectorizer\n",
    "\n",
    "import numpy as np\n",
    "import pandas as pd\n",
    "import sklearn as sk"
   ]
  },
  {
   "cell_type": "code",
   "execution_count": 28,
   "id": "6df09f4a",
   "metadata": {},
   "outputs": [],
   "source": [
    "data = pd.read_csv('../../_data/Reviews.csv') # Loading the dataset\n",
    "X, y = data['Text'], data['Score']"
   ]
  },
  {
   "cell_type": "code",
   "execution_count": 29,
   "id": "d61995cf",
   "metadata": {},
   "outputs": [],
   "source": [
    "# FOR TESTING : only select first 500 samples\n",
    "X, y = X[:500], y[:500]"
   ]
  },
  {
   "cell_type": "code",
   "execution_count": 30,
   "id": "b11a1573",
   "metadata": {},
   "outputs": [
    {
     "name": "stderr",
     "output_type": "stream",
     "text": [
      "/home/assil/miniconda3/envs/tf-gpu/lib/python3.9/site-packages/sklearn/feature_extraction/text.py:525: UserWarning: The parameter 'token_pattern' will not be used since 'tokenizer' is not None'\n",
      "  warnings.warn(\n"
     ]
    }
   ],
   "source": [
    "tokenized_documents = tokenizer(X)\n",
    "X, vect = vectorizer(tokenized_documents)"
   ]
  },
  {
   "cell_type": "code",
   "execution_count": 31,
   "id": "840f6224",
   "metadata": {},
   "outputs": [
    {
     "name": "stdout",
     "output_type": "stream",
     "text": [
      "Top 10 most frequent words in the dataset\n",
      "['0' '00' '1' '10' '100' '1000' '100ml' '10lb' '10lbs' '11']\n",
      "Top 10 least frequent words in the dataset\n",
      "['yucky' 'yum' 'yummy' 'zack' 'zen' 'zero' 'zest' 'zing' 'zip' 'ît']\n"
     ]
    }
   ],
   "source": [
    "# most frequent words\n",
    "print(\"Top 10 most frequent words in the dataset\")\n",
    "print(vect.get_feature_names_out()[:10])\n",
    "\n",
    "# least frequent words\n",
    "print(\"Top 10 least frequent words in the dataset\")\n",
    "print(vect.get_feature_names_out()[-10:])"
   ]
  },
  {
   "cell_type": "code",
   "execution_count": 32,
   "id": "5eb41d98",
   "metadata": {},
   "outputs": [],
   "source": [
    "X_train, X_test, y_train, y_test = sk.model_selection.train_test_split(X, y, test_size=0.2, random_state=42)"
   ]
  },
  {
   "cell_type": "code",
   "execution_count": 33,
   "id": "d5e0297a",
   "metadata": {},
   "outputs": [
    {
     "name": "stdout",
     "output_type": "stream",
     "text": [
      "(400, 3977) (100, 3977) (400,) (100,)\n",
      "  (0, 2619)\t0.32608001899182526\n",
      "  (0, 1692)\t0.32608001899182526\n",
      "  (0, 1628)\t0.30581253945938824\n",
      "  (0, 350)\t0.30581253945938824\n",
      "  (0, 954)\t0.2914325338838896\n",
      "  (0, 3508)\t0.28027853501045363\n",
      "  (0, 737)\t0.23651756924351694\n",
      "  (0, 3747)\t0.1738972664967719\n",
      "  (0, 1461)\t0.19416474602920894\n",
      "  (0, 1929)\t0.20621941350316783\n",
      "  (0, 3888)\t0.14168859457871105\n",
      "  (0, 2429)\t0.11230763438727291\n",
      "  (0, 400)\t0.2711650543514526\n",
      "  (0, 3964)\t0.3303641616264214\n",
      "  (0, 3959)\t0.10830663921640983\n",
      "  (0, 1795)\t0.13416209657346923\n",
      "  (0, 80)\t0.06554353390434704\n",
      "  (0, 201)\t0.12198063892331497\n",
      "  (0, 2406)\t0.07835926214328101\n"
     ]
    }
   ],
   "source": [
    "print(X_train.shape, X_test.shape, y_train.shape, y_test.shape)\n",
    "\n",
    "print(X_train[0])"
   ]
  },
  {
   "cell_type": "markdown",
   "id": "af1f7816",
   "metadata": {},
   "source": [
    "# N-grams\n",
    "### Model starts here"
   ]
  },
  {
   "cell_type": "code",
   "execution_count": 34,
   "id": "64043c72-b8b8-4bc3-b73b-00da866bfed6",
   "metadata": {},
   "outputs": [],
   "source": [
    "#Import all libraries\n",
    "from collections import defaultdict\n",
    "from collections import  defaultdict\n",
    "import math\n",
    "import random"
   ]
  },
  {
   "cell_type": "code",
   "execution_count": 35,
   "id": "6ff2389f-dd46-4861-9bf7-dbb5c197cdfa",
   "metadata": {},
   "outputs": [],
   "source": [
    "def Create_And_Count_ngrams(tokens, n):\n",
    "    # Creates n-grams and counts their occurrences\n",
    "    ngram_counts = defaultdict(int)\n",
    "    \n",
    "    for i in range(len(tokens) - n + 1):\n",
    "        ngram = tuple(tokens[i:i+n])\n",
    "        ngram_counts[ngram] += 1\n",
    "    \n",
    "    return ngram_counts\n",
    "\n",
    "def add_laplace(ngram, k):\n",
    "    # Applies Laplace smoothing\n",
    "    for key in ngram:\n",
    "        ngram[key] += k\n",
    "\n",
    "def Create_ngram(tokenized_documents, n, k=0.00001):\n",
    "    # Creates the needed n-gram\n",
    "    token_set = set(token for doc in tokenized_documents for token in doc)  # To not have duplicate tokens\n",
    "    len_token_set = len(token_set)\n",
    "\n",
    "    # Step 1: Count n-grams and (n-1)-grams\n",
    "    tmp_ng_with_count = defaultdict(int)\n",
    "    prefix_count = defaultdict(int)\n",
    "\n",
    "    for doc in tokenized_documents:\n",
    "        for i in range(len(doc) - n + 1):\n",
    "            ngram = tuple(doc[i:i+n])\n",
    "            tmp_ng_with_count[ngram] += 1\n",
    "            prefix_count[ngram[:-1]] += 1\n",
    "\n",
    "    final_ng = defaultdict(float)\n",
    "\n",
    "    # Step 2: Apply Laplace smoothing\n",
    "    add_laplace(tmp_ng_with_count, k)\n",
    "    add_laplace(prefix_count, k)\n",
    "\n",
    "    # Step 3: Calculate n-gram probabilities\n",
    "    for ng in tmp_ng_with_count:\n",
    "        final_ng[ng] = (tmp_ng_with_count[ng] + k) / (prefix_count[ng[:-1]] + k * len_token_set)\n",
    "\n",
    "    return final_ng\n",
    "\n",
    "def calculate_perplexity(tokenized_documents, ngram, n):\n",
    "    # Calculates perplexity\n",
    "    log_probability_sum = 0\n",
    "    ngram_count = 0\n",
    "\n",
    "    for doc in tokenized_documents:\n",
    "        doc_tokens = doc.nonzero()[1]  # Get the non-zero token indices\n",
    "        for i in range(len(doc_tokens) - n + 1):\n",
    "            ngram_tuple = tuple(doc_tokens[i:i+n])\n",
    "            if ngram_tuple in ngram:\n",
    "                log_probability_sum += math.log2(ngram[ngram_tuple])\n",
    "                ngram_count += 1\n",
    "\n",
    "    if ngram_count == 0:\n",
    "        return float('inf')\n",
    "\n",
    "    average_log_probability = -log_probability_sum / ngram_count\n",
    "    perplexity = math.pow(2, average_log_probability)\n",
    "\n",
    "    return perplexity\n",
    "\n",
    "\n",
    "def greedy_sampling(context, ngram_probabilities, n, max_length=50):\n",
    "    # Take the most probable option only\n",
    "    sentence = []\n",
    "    sentence.extend(tuple(context[-(n):]))\n",
    "\n",
    "    # Check is context toot small\n",
    "    if len(context) < (n-1):\n",
    "        print(\"context too small\")\n",
    "        return sentence\n",
    "\n",
    "    context = tuple(context[-(n-1):])  \n",
    "    \n",
    "    for _ in range(max_length):\n",
    "        probs = {}\n",
    "        \n",
    "        for token in ngram_probabilities:\n",
    "            if token[:n-1] == context:\n",
    "                probs[token[-1]] = ngram_probabilities[token]\n",
    "\n",
    "        if not probs:\n",
    "            print(\"No token possible in context\")\n",
    "            return sentence\n",
    "\n",
    "        # For greedy algorithm\n",
    "        best_token = max(probs, key=probs.get)  \n",
    "\n",
    "        if best_token not in probs:\n",
    "            print(\"No best token possible\")\n",
    "            return sentence\n",
    "\n",
    "        sentence.append(best_token)\n",
    "        context = context[1:] + (best_token,) \n",
    "\n",
    "    return sentence\n",
    "\n",
    "import random\n",
    "\n",
    "def top_k(context, ngram_probabilities, n, max_length=50, k=1):\n",
    "    # Top k version. if k = 1, same result as greedy\n",
    "    sentence = []\n",
    "    sentence.extend(tuple(context[-(n):]))\n",
    "\n",
    "    # Check if context too small\n",
    "    if len(context) < (n-1):\n",
    "        print(\"context too small\")\n",
    "        return sentence\n",
    "\n",
    "    context = tuple(context[-(n-1):])  \n",
    "    \n",
    "    for _ in range(max_length):\n",
    "        probs = {}\n",
    "        \n",
    "        for token in ngram_probabilities:\n",
    "            if token[:n-1] == context:\n",
    "                probs[token[-1]] = ngram_probabilities[token]\n",
    "\n",
    "        if not probs:\n",
    "            print(\"No token possible in context\")\n",
    "            return sentence\n",
    "\n",
    "        # Selecting top k tokens probabilistically\n",
    "        top_k_tokens = sorted(probs, key=probs.get, reverse=True)[:k]\n",
    "\n",
    "        token_weights = [probs[token] for token in top_k_tokens]\n",
    "        best_token = random.choices(top_k_tokens, weights=token_weights, k=1)[0]\n",
    "\n",
    "\n",
    "        if best_token not in probs:\n",
    "            print(\"No best token possible\")\n",
    "            return sentence\n",
    "\n",
    "        sentence.append(best_token)\n",
    "        context = context[1:] + (best_token,) \n",
    "\n",
    "    return sentence"
   ]
  },
  {
   "cell_type": "code",
   "execution_count": 36,
   "id": "090405ba-3913-428d-a9c2-7703ff27d12c",
   "metadata": {},
   "outputs": [],
   "source": [
    "n = 1  # Choose the desired n-gram size\n",
    "k = 0.00001  # Choose the desired smoothing factor\n",
    "\n",
    "# Convert X_train from csr_matrix to dense matrix\n",
    "X_train_dense = X_train.toarray()\n",
    "\n",
    "# Create n-gram probabilities using the dense matrix\n",
    "ngram_probabilities = Create_ngram(X_train_dense, n, k)\n",
    "\n",
    "# Use ngram_probabilities for further processing, such as perplexity calculation or sampling"
   ]
  },
  {
   "cell_type": "code",
   "execution_count": 37,
   "id": "afeff3a9-3bc4-45bb-8aaf-1e2a59776454",
   "metadata": {},
   "outputs": [
    {
     "name": "stdout",
     "output_type": "stream",
     "text": [
      "Training Perplexity: 1.0127002288886564\n",
      "Test Perplexity: inf\n"
     ]
    }
   ],
   "source": [
    "# Calculate perplexity for the training data\n",
    "train_perplexity = calculate_perplexity(X_train, ngram_probabilities, n)\n",
    "print(f\"Training Perplexity: {train_perplexity}\")\n",
    "\n",
    "# Calculate perplexity for the test data\n",
    "test_perplexity = calculate_perplexity(X_test, ngram_probabilities, n)\n",
    "print(f\"Test Perplexity: {test_perplexity}\")"
   ]
  },
  {
   "cell_type": "code",
   "execution_count": 44,
   "id": "7ade6588-6397-463c-bbec-c32c5fc28b89",
   "metadata": {},
   "outputs": [
    {
     "name": "stdout",
     "output_type": "stream",
     "text": [
      "No token possible in context\n",
      "['I', 'am', 'a', 'good']\n"
     ]
    }
   ],
   "source": [
    "context = ['I', 'am', 'a', 'good']\n",
    "print(top_k(context, ngram_probabilities, 4, 2, 1))\n"
   ]
  }
 ],
 "metadata": {
  "kernelspec": {
   "display_name": "Python 3 (ipykernel)",
   "language": "python",
   "name": "python3"
  },
  "language_info": {
   "codemirror_mode": {
    "name": "ipython",
    "version": 3
   },
   "file_extension": ".py",
   "mimetype": "text/x-python",
   "name": "python",
   "nbconvert_exporter": "python",
   "pygments_lexer": "ipython3",
   "version": "3.9.19"
  }
 },
 "nbformat": 4,
 "nbformat_minor": 5
}

{
 "cells": [
  {
   "cell_type": "code",
   "execution_count": 1,
   "id": "4008a8c5-3c85-4f3f-b38e-e1efca039647",
   "metadata": {
    "scrolled": true
   },
   "outputs": [
    {
     "name": "stdout",
     "output_type": "stream",
     "text": [
      "Defaulting to user installation because normal site-packages is not writeable\n",
      "Requirement already satisfied: scikit-learn in /home/flo/.local/lib/python3.10/site-packages (1.4.1.post1)\n",
      "Requirement already satisfied: scipy>=1.6.0 in /usr/lib/python3/dist-packages (from scikit-learn) (1.8.0)\n",
      "Requirement already satisfied: threadpoolctl>=2.0.0 in /home/flo/.local/lib/python3.10/site-packages (from scikit-learn) (3.3.0)\n",
      "Requirement already satisfied: numpy<2.0,>=1.19.5 in /home/flo/.local/lib/python3.10/site-packages (from scikit-learn) (1.26.4)\n",
      "Requirement already satisfied: joblib>=1.2.0 in /home/flo/.local/lib/python3.10/site-packages (from scikit-learn) (1.3.2)\n",
      "Defaulting to user installation because normal site-packages is not writeable\n",
      "Requirement already satisfied: nltk in /home/flo/.local/lib/python3.10/site-packages (3.8.1)\n",
      "Requirement already satisfied: tqdm in /home/flo/.local/lib/python3.10/site-packages (from nltk) (4.66.2)\n",
      "Requirement already satisfied: joblib in /home/flo/.local/lib/python3.10/site-packages (from nltk) (1.3.2)\n",
      "Requirement already satisfied: click in /usr/lib/python3/dist-packages (from nltk) (8.0.3)\n",
      "Requirement already satisfied: regex>=2021.8.3 in /home/flo/.local/lib/python3.10/site-packages (from nltk) (2023.12.25)\n",
      "Defaulting to user installation because normal site-packages is not writeable\n",
      "Requirement already satisfied: pandas in /home/flo/.local/lib/python3.10/site-packages (2.2.1)\n",
      "Requirement already satisfied: pytz>=2020.1 in /usr/lib/python3/dist-packages (from pandas) (2022.1)\n",
      "Requirement already satisfied: python-dateutil>=2.8.2 in /home/flo/.local/lib/python3.10/site-packages (from pandas) (2.8.2)\n",
      "Requirement already satisfied: tzdata>=2022.7 in /home/flo/.local/lib/python3.10/site-packages (from pandas) (2024.1)\n",
      "Requirement already satisfied: numpy<2,>=1.22.4 in /home/flo/.local/lib/python3.10/site-packages (from pandas) (1.26.4)\n",
      "Requirement already satisfied: six>=1.5 in /usr/lib/python3/dist-packages (from python-dateutil>=2.8.2->pandas) (1.16.0)\n"
     ]
    }
   ],
   "source": [
    "!pip install scikit-learn\n",
    "!pip install nltk\n",
    "!pip install pandas"
   ]
  },
  {
   "cell_type": "code",
   "execution_count": 2,
   "id": "226d53e6-c007-4c7b-815a-6fc602bbeae7",
   "metadata": {},
   "outputs": [
    {
     "name": "stderr",
     "output_type": "stream",
     "text": [
      "/usr/lib/python3/dist-packages/scipy/__init__.py:146: UserWarning: A NumPy version >=1.17.3 and <1.25.0 is required for this version of SciPy (detected version 1.26.4\n",
      "  warnings.warn(f\"A NumPy version >={np_minversion} and <{np_maxversion}\"\n",
      "[nltk_data] Downloading package punkt to /home/flo/nltk_data...\n",
      "[nltk_data]   Package punkt is already up-to-date!\n"
     ]
    },
    {
     "data": {
      "text/plain": [
       "True"
      ]
     },
     "execution_count": 2,
     "metadata": {},
     "output_type": "execute_result"
    }
   ],
   "source": [
    "import pandas as pd\n",
    "import nltk\n",
    "import sklearn as sk\n",
    "import sklearn.model_selection\n",
    "\n",
    "from nltk.tokenize import word_tokenize, sent_tokenize\n",
    "nltk.download('punkt')"
   ]
  },
  {
   "cell_type": "code",
   "execution_count": 3,
   "id": "e5a01e36-aea6-4e01-8cfa-9eed84068bab",
   "metadata": {},
   "outputs": [],
   "source": [
    "data = pd.read_csv('../_data/Reviews.csv')"
   ]
  },
  {
   "cell_type": "code",
   "execution_count": 4,
   "id": "72c9af72-203e-40a9-ad23-dd39b262f425",
   "metadata": {},
   "outputs": [],
   "source": [
    "X_train, X_test, y_train, y_test = sk.model_selection.train_test_split(data['Text'], data['Score'], test_size=0.2)"
   ]
  },
  {
   "cell_type": "code",
   "execution_count": 5,
   "id": "d24b2cfe-0ecb-4cf6-9f6c-3a0f16069687",
   "metadata": {},
   "outputs": [],
   "source": [
    "X_train = X_train[:len(X_train) // 5] # reducing the length of the training set to a fifth of the original size\n",
    "X_test = X_test[:len(X_test) // 5] # reducing the length of the testing set to a fifth of the original size"
   ]
  },
  {
   "cell_type": "code",
   "execution_count": 6,
   "id": "43f5b418-27f1-4eed-a61c-1b1701a703e0",
   "metadata": {},
   "outputs": [],
   "source": [
    "text_strings_train = \" \".join(X_train) # Put every rows in the training set in one string, separated by a whitespace\n",
    "sents_train = sent_tokenize(text_strings_train) # Tokenize by sentences\n",
    "\n",
    "text_strings_test = \" \".join(X_test) # Put every rows in the testing set in one string, separated by a whitespace\n",
    "sents_test = sent_tokenize(text_strings_test) # Tokenize by sentences"
   ]
  },
  {
   "cell_type": "code",
   "execution_count": 7,
   "id": "70d3579d-d963-4d0c-8653-6b029abb86c5",
   "metadata": {},
   "outputs": [],
   "source": [
    "token_train = [nltk.tokenize.word_tokenize(s) for s in sents_train] # basic tokenizer => really good but really slow\n",
    "#token_train = [nltk.tokenize.WhitespaceTokenizer().tokenize(s) for s in sents_train] # whitespace tokenizer -> all parenthesis and punctuation aren't separated from the words\n",
    "#token_train = [nltk.tokenize.wordpunct_tokenize(s) for s in sents_train] # punctuation tokenizer -> all punctuation is separated from words, so \"isn't\" => \"isn\" \"'\" \"t\"\n",
    "#token_train = [nltk.RegexpTokenizer(r\"\\w+\").tokenize(s) for s in sents_train] # Removes ALL punctuation and parenthesis etc...\n",
    "\n",
    "token_test = [nltk.tokenize.word_tokenize(s) for s in sents_test] # basic tokenizer => really good but really slow\n",
    "#token_test = [nltk.tokenize.WhitespaceTokenizer().tokenize(s) for s in sents_test] # whitespace tokenizer -> all parenthesis and punctuation aren't separated from the words\n",
    "#token_test = [nltk.tokenize.wordpunct_tokenize(s) for s in sents_test] # punctuation tokenizer -> all punctuation is separated from words, so \"isn't\" => \"isn\" \"'\" \"t\"\n",
    "#token_test = [nltk.RegexpTokenizer(r\"\\w+\").tokenize(s) for s in sents_test] # Removes ALL punctuation and parenthesis etc...\n",
    "\n",
    "tokenized_train = [word for sublist in token_train for word in sublist]\n",
    "tokenized_test = [word for sublist in token_test for word in sublist]"
   ]
  },
  {
   "cell_type": "code",
   "execution_count": 8,
   "id": "db1f2a2c-1b07-4815-adb9-48c761a71a92",
   "metadata": {},
   "outputs": [],
   "source": [
    "with open('data/training_data/basic_tokenizer_train.data', 'w') as f:\n",
    "    f.writelines(word + '\\n' for word in tokenized_train)\n",
    "\n",
    "with open('data/testing_data/basic_tokenizer_test.data', 'w') as f:\n",
    "    f.writelines(word + '\\n' for word in tokenized_test)"
   ]
  }
 ],
 "metadata": {
  "kernelspec": {
   "display_name": "Python 3 (ipykernel)",
   "language": "python",
   "name": "python3"
  },
  "language_info": {
   "codemirror_mode": {
    "name": "ipython",
    "version": 3
   },
   "file_extension": ".py",
   "mimetype": "text/x-python",
   "name": "python",
   "nbconvert_exporter": "python",
   "pygments_lexer": "ipython3",
   "version": "3.10.12"
  }
 },
 "nbformat": 4,
 "nbformat_minor": 5
}

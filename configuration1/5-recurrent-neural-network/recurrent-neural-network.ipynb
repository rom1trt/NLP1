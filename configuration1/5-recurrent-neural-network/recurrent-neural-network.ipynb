{
 "cells": [
  {
   "cell_type": "markdown",
   "metadata": {},
   "source": [
    "# NLTK TOKENIZER AND TF-IDF VECTORIZER"
   ]
  },
  {
   "cell_type": "code",
   "execution_count": 3,
   "metadata": {},
   "outputs": [],
   "source": [
    "import sys\n",
    "# sys.path.append('../')\n",
    "import numpy as np\n",
    "import pandas as pd\n",
    "import sklearn as sk"
   ]
  },
  {
   "cell_type": "code",
   "execution_count": 4,
   "metadata": {},
   "outputs": [],
   "source": [
    "data = pd.read_csv('../../_data/Reviews.csv') # Loading the dataset\n",
    "X, y = data['Text'], data['Score']"
   ]
  },
  {
   "cell_type": "code",
   "execution_count": 6,
   "metadata": {},
   "outputs": [
    {
     "name": "stdout",
     "output_type": "stream",
     "text": [
      "Number of tokens:  23767229\n",
      "Number of sentences:  2832806\n"
     ]
    }
   ],
   "source": [
    "tokenized_documents = tokenizer(X)"
   ]
  },
  {
   "cell_type": "code",
   "execution_count": 7,
   "metadata": {},
   "outputs": [
    {
     "name": "stderr",
     "output_type": "stream",
     "text": [
      "/opt/mamba/lib/python3.12/site-packages/sklearn/feature_extraction/text.py:525: UserWarning: The parameter 'token_pattern' will not be used since 'tokenizer' is not None'\n",
      "  warnings.warn(\n"
     ]
    }
   ],
   "source": [
    "X, vect = vectorizer(tokenized_documents)"
   ]
  },
  {
   "cell_type": "code",
   "execution_count": 8,
   "metadata": {},
   "outputs": [
    {
     "name": "stdout",
     "output_type": "stream",
     "text": [
      "Top 10 most frequent words in the dataset\n",
      "['0' '00' '000' '0000' '000001' '00001' '000013' '0000soo' '0001'\n",
      " '000111052']\n",
      "Top 10 least frequent words in the dataset\n",
      "['¾' 'â' 'çay' 'çaykur' 'çelem' 'être' 'île' 'ît' 'ø' 'þ']\n"
     ]
    }
   ],
   "source": [
    "# most frequent words\n",
    "print(\"Top 10 most frequent words in the dataset\")\n",
    "print(vect.get_feature_names_out()[:10])\n",
    "\n",
    "# least frequent words\n",
    "print(\"Top 10 least frequent words in the dataset\")\n",
    "print(vect.get_feature_names_out()[-10:])"
   ]
  },
  {
   "cell_type": "code",
   "execution_count": 9,
   "metadata": {},
   "outputs": [],
   "source": [
    "X_train, X_test, y_train, y_test = sk.model_selection.train_test_split(X, y, test_size=0.2, random_state=42)"
   ]
  },
  {
   "cell_type": "code",
   "execution_count": 10,
   "metadata": {},
   "outputs": [
    {
     "name": "stdout",
     "output_type": "stream",
     "text": [
      "(454763, 120144) (113691, 120144) (454763,) (113691,)\n",
      "  (0, 94340)\t0.2698393204452672\n",
      "  (0, 107461)\t0.356573063664095\n",
      "  (0, 60888)\t0.6837599652000029\n",
      "  (0, 31216)\t0.37896669799521565\n",
      "  (0, 25542)\t0.19195720719400375\n",
      "  (0, 79539)\t0.28524356089653274\n",
      "  (0, 69704)\t0.22960104461763894\n",
      "  (0, 66863)\t0.13405538070127823\n"
     ]
    }
   ],
   "source": [
    "print(X_train.shape, X_test.shape, y_train.shape, y_test.shape)\n",
    "\n",
    "print(X_train[0])"
   ]
  },
  {
   "cell_type": "markdown",
   "metadata": {},
   "source": [
    "# Recurrent Neural Network\n",
    "### Model starts here"
   ]
  },
  {
   "cell_type": "code",
   "execution_count": 11,
   "metadata": {},
   "outputs": [
    {
     "name": "stderr",
     "output_type": "stream",
     "text": [
      "2024-05-03 13:50:16.088485: I tensorflow/core/util/port.cc:113] oneDNN custom operations are on. You may see slightly different numerical results due to floating-point round-off errors from different computation orders. To turn them off, set the environment variable `TF_ENABLE_ONEDNN_OPTS=0`.\n",
      "2024-05-03 13:50:16.137031: I tensorflow/core/platform/cpu_feature_guard.cc:210] This TensorFlow binary is optimized to use available CPU instructions in performance-critical operations.\n",
      "To enable the following instructions: AVX2 AVX512F AVX512_VNNI FMA, in other operations, rebuild TensorFlow with the appropriate compiler flags.\n",
      "2024-05-03 13:50:17.350613: W tensorflow/compiler/tf2tensorrt/utils/py_utils.cc:38] TF-TRT Warning: Could not find TensorRT\n"
     ]
    }
   ],
   "source": [
    "import pandas as pd\n",
    "import numpy as np\n",
    "import sklearn\n",
    "from sklearn.model_selection import train_test_split\n",
    "from sklearn.feature_extraction.text import TfidfVectorizer\n",
    "import tensorflow as tf\n",
    "from tensorflow.keras.models import Sequential\n",
    "from tensorflow.keras.layers import Embedding, LSTM, Dense, Dropout\n",
    "from tensorflow.keras.preprocessing.text import Tokenizer\n",
    "from tensorflow.keras.preprocessing.sequence import pad_sequences\n",
    "from tensorflow.keras.utils import to_categorical\n",
    "from sklearn import metrics\n",
    "import datetime\n",
    "import os"
   ]
  },
  {
   "cell_type": "code",
   "execution_count": 12,
   "metadata": {},
   "outputs": [
    {
     "name": "stderr",
     "output_type": "stream",
     "text": [
      "2024-05-03 13:50:18.047585: I tensorflow/core/common_runtime/gpu/gpu_device.cc:1928] Created device /job:localhost/replica:0/task:0/device:GPU:0 with 13290 MB memory:  -> device: 0, name: NVIDIA A2, pci bus id: 0000:ca:00.0, compute capability: 8.6\n",
      "/opt/mamba/lib/python3.12/site-packages/keras/src/layers/rnn/rnn.py:204: UserWarning: Do not pass an `input_shape`/`input_dim` argument to a layer. When using Sequential models, prefer using an `Input(shape)` object as the first layer in the model instead.\n",
      "  super().__init__(**kwargs)\n"
     ]
    },
    {
     "name": "stdout",
     "output_type": "stream",
     "text": [
      "Epoch 1/20\n"
     ]
    },
    {
     "name": "stderr",
     "output_type": "stream",
     "text": [
      "WARNING: All log messages before absl::InitializeLog() is called are written to STDERR\n",
      "I0000 00:00:1714744221.648736   26245 service.cc:145] XLA service 0x561efc308130 initialized for platform CUDA (this does not guarantee that XLA will be used). Devices:\n",
      "I0000 00:00:1714744221.648803   26245 service.cc:153]   StreamExecutor device (0): NVIDIA A2, Compute Capability 8.6\n",
      "2024-05-03 13:50:21.757225: I tensorflow/compiler/mlir/tensorflow/utils/dump_mlir_util.cc:268] disabling MLIR crash reproducer, set env var `MLIR_CRASH_REPRODUCER_DIRECTORY` to enable.\n",
      "2024-05-03 13:50:22.302072: I external/local_xla/xla/stream_executor/cuda/cuda_dnn.cc:465] Loaded cuDNN version 8900\n",
      "WARNING: All log messages before absl::InitializeLog() is called are written to STDERR\n",
      "I0000 00:00:1714744226.594477   26419 asm_compiler.cc:369] ptxas warning : Registers are spilled to local memory in function 'triton_gemm_dot_59', 268 bytes spill stores, 260 bytes spill loads\n",
      "\n",
      "I0000 00:00:1714744226.704992   26409 asm_compiler.cc:369] ptxas warning : Registers are spilled to local memory in function 'triton_gemm_dot_60', 64 bytes spill stores, 64 bytes spill loads\n",
      "\n",
      "I0000 00:00:1714744226.928925   26491 asm_compiler.cc:369] ptxas warning : Registers are spilled to local memory in function 'triton_gemm_dot_46', 8 bytes spill stores, 8 bytes spill loads\n",
      "\n"
     ]
    },
    {
     "name": "stdout",
     "output_type": "stream",
     "text": [
      "\u001b[1m   2/3553\u001b[0m \u001b[37m━━━━━━━━━━━━━━━━━━━━\u001b[0m \u001b[1m4:32\u001b[0m 77ms/step - accuracy: 0.3633 - loss: 1.7895   "
     ]
    },
    {
     "name": "stderr",
     "output_type": "stream",
     "text": [
      "I0000 00:00:1714744233.761103   26245 asm_compiler.cc:369] ptxas warning : Registers are spilled to local memory in function 'loop_multiply_select_fusion_3', 4 bytes spill stores, 4 bytes spill loads\n",
      "\n",
      "I0000 00:00:1714744233.777667   26245 device_compiler.h:188] Compiled cluster using XLA!  This line is logged at most once for the lifetime of the process.\n"
     ]
    },
    {
     "name": "stdout",
     "output_type": "stream",
     "text": [
      "\u001b[1m3552/3553\u001b[0m \u001b[32m━━━━━━━━━━━━━━━━━━━\u001b[0m\u001b[37m━\u001b[0m \u001b[1m0s\u001b[0m 72ms/step - accuracy: 0.7014 - loss: 0.8369"
     ]
    },
    {
     "name": "stderr",
     "output_type": "stream",
     "text": [
      "I0000 00:00:1714744492.093305   27139 asm_compiler.cc:369] ptxas warning : Registers are spilled to local memory in function 'triton_gemm_dot_59', 4 bytes spill stores, 4 bytes spill loads\n",
      "\n",
      "I0000 00:00:1714744492.524821   27183 asm_compiler.cc:369] ptxas warning : Registers are spilled to local memory in function 'triton_gemm_dot_59', 4 bytes spill stores, 4 bytes spill loads\n",
      "\n",
      "I0000 00:00:1714744492.578977   27158 asm_compiler.cc:369] ptxas warning : Registers are spilled to local memory in function 'triton_gemm_dot_59', 252 bytes spill stores, 172 bytes spill loads\n",
      "\n",
      "I0000 00:00:1714744492.674624   27184 asm_compiler.cc:369] ptxas warning : Registers are spilled to local memory in function 'triton_gemm_dot_48', 16 bytes spill stores, 16 bytes spill loads\n",
      "\n",
      "I0000 00:00:1714744492.689486   27127 asm_compiler.cc:369] ptxas warning : Registers are spilled to local memory in function 'triton_gemm_dot_58', 24 bytes spill stores, 20 bytes spill loads\n",
      "\n",
      "I0000 00:00:1714744492.811445   27223 asm_compiler.cc:369] ptxas warning : Registers are spilled to local memory in function 'triton_gemm_dot_60', 64 bytes spill stores, 64 bytes spill loads\n",
      "\n",
      "I0000 00:00:1714744492.852309   27140 asm_compiler.cc:369] ptxas warning : Registers are spilled to local memory in function 'triton_gemm_dot_58', 8 bytes spill stores, 8 bytes spill loads\n",
      "\n",
      "I0000 00:00:1714744492.943096   27195 asm_compiler.cc:369] ptxas warning : Registers are spilled to local memory in function 'triton_gemm_dot_46', 8 bytes spill stores, 8 bytes spill loads\n",
      "\n"
     ]
    },
    {
     "name": "stdout",
     "output_type": "stream",
     "text": [
      "\u001b[1m3553/3553\u001b[0m \u001b[32m━━━━━━━━━━━━━━━━━━━━\u001b[0m\u001b[37m\u001b[0m \u001b[1m281s\u001b[0m 75ms/step - accuracy: 0.7014 - loss: 0.8369\n",
      "Epoch 2/20\n",
      "\u001b[1m3553/3553\u001b[0m \u001b[32m━━━━━━━━━━━━━━━━━━━━\u001b[0m\u001b[37m\u001b[0m \u001b[1m257s\u001b[0m 72ms/step - accuracy: 0.7977 - loss: 0.5606\n",
      "Epoch 3/20\n",
      "\u001b[1m3553/3553\u001b[0m \u001b[32m━━━━━━━━━━━━━━━━━━━━\u001b[0m\u001b[37m\u001b[0m \u001b[1m262s\u001b[0m 74ms/step - accuracy: 0.8674 - loss: 0.3773\n",
      "Epoch 4/20\n",
      "\u001b[1m3553/3553\u001b[0m \u001b[32m━━━━━━━━━━━━━━━━━━━━\u001b[0m\u001b[37m\u001b[0m \u001b[1m257s\u001b[0m 72ms/step - accuracy: 0.9096 - loss: 0.2581\n",
      "Epoch 5/20\n",
      "\u001b[1m3553/3553\u001b[0m \u001b[32m━━━━━━━━━━━━━━━━━━━━\u001b[0m\u001b[37m\u001b[0m \u001b[1m257s\u001b[0m 72ms/step - accuracy: 0.9340 - loss: 0.1882\n",
      "Epoch 6/20\n",
      "\u001b[1m3553/3553\u001b[0m \u001b[32m━━━━━━━━━━━━━━━━━━━━\u001b[0m\u001b[37m\u001b[0m \u001b[1m259s\u001b[0m 73ms/step - accuracy: 0.9503 - loss: 0.1422\n",
      "Epoch 7/20\n",
      "\u001b[1m3553/3553\u001b[0m \u001b[32m━━━━━━━━━━━━━━━━━━━━\u001b[0m\u001b[37m\u001b[0m \u001b[1m259s\u001b[0m 73ms/step - accuracy: 0.9611 - loss: 0.1114\n",
      "Epoch 8/20\n",
      "\u001b[1m3553/3553\u001b[0m \u001b[32m━━━━━━━━━━━━━━━━━━━━\u001b[0m\u001b[37m\u001b[0m \u001b[1m260s\u001b[0m 73ms/step - accuracy: 0.9680 - loss: 0.0919\n",
      "Epoch 9/20\n",
      "\u001b[1m3553/3553\u001b[0m \u001b[32m━━━━━━━━━━━━━━━━━━━━\u001b[0m\u001b[37m\u001b[0m \u001b[1m258s\u001b[0m 73ms/step - accuracy: 0.9736 - loss: 0.0758\n",
      "Epoch 10/20\n",
      "\u001b[1m3553/3553\u001b[0m \u001b[32m━━━━━━━━━━━━━━━━━━━━\u001b[0m\u001b[37m\u001b[0m \u001b[1m260s\u001b[0m 73ms/step - accuracy: 0.9773 - loss: 0.0659\n",
      "Epoch 11/20\n",
      "\u001b[1m3553/3553\u001b[0m \u001b[32m━━━━━━━━━━━━━━━━━━━━\u001b[0m\u001b[37m\u001b[0m \u001b[1m258s\u001b[0m 73ms/step - accuracy: 0.9807 - loss: 0.0565\n",
      "Epoch 12/20\n",
      "\u001b[1m3553/3553\u001b[0m \u001b[32m━━━━━━━━━━━━━━━━━━━━\u001b[0m\u001b[37m\u001b[0m \u001b[1m257s\u001b[0m 72ms/step - accuracy: 0.9830 - loss: 0.0495\n",
      "Epoch 13/20\n",
      "\u001b[1m3553/3553\u001b[0m \u001b[32m━━━━━━━━━━━━━━━━━━━━\u001b[0m\u001b[37m\u001b[0m \u001b[1m258s\u001b[0m 73ms/step - accuracy: 0.9848 - loss: 0.0439\n",
      "Epoch 14/20\n",
      "\u001b[1m3553/3553\u001b[0m \u001b[32m━━━━━━━━━━━━━━━━━━━━\u001b[0m\u001b[37m\u001b[0m \u001b[1m258s\u001b[0m 73ms/step - accuracy: 0.9867 - loss: 0.0391\n",
      "Epoch 15/20\n",
      "\u001b[1m3553/3553\u001b[0m \u001b[32m━━━━━━━━━━━━━━━━━━━━\u001b[0m\u001b[37m\u001b[0m \u001b[1m258s\u001b[0m 73ms/step - accuracy: 0.9879 - loss: 0.0354\n",
      "Epoch 16/20\n",
      "\u001b[1m3553/3553\u001b[0m \u001b[32m━━━━━━━━━━━━━━━━━━━━\u001b[0m\u001b[37m\u001b[0m \u001b[1m252s\u001b[0m 71ms/step - accuracy: 0.9889 - loss: 0.0326\n",
      "Epoch 17/20\n",
      "\u001b[1m3553/3553\u001b[0m \u001b[32m━━━━━━━━━━━━━━━━━━━━\u001b[0m\u001b[37m\u001b[0m \u001b[1m255s\u001b[0m 72ms/step - accuracy: 0.9900 - loss: 0.0295\n",
      "Epoch 18/20\n",
      "\u001b[1m3553/3553\u001b[0m \u001b[32m━━━━━━━━━━━━━━━━━━━━\u001b[0m\u001b[37m\u001b[0m \u001b[1m253s\u001b[0m 71ms/step - accuracy: 0.9909 - loss: 0.0269\n",
      "Epoch 19/20\n",
      "\u001b[1m3553/3553\u001b[0m \u001b[32m━━━━━━━━━━━━━━━━━━━━\u001b[0m\u001b[37m\u001b[0m \u001b[1m248s\u001b[0m 70ms/step - accuracy: 0.9913 - loss: 0.0259\n",
      "Epoch 20/20\n",
      "\u001b[1m3553/3553\u001b[0m \u001b[32m━━━━━━━━━━━━━━━━━━━━\u001b[0m\u001b[37m\u001b[0m \u001b[1m246s\u001b[0m 69ms/step - accuracy: 0.9920 - loss: 0.0238\n"
     ]
    },
    {
     "data": {
      "text/plain": [
       "<keras.src.callbacks.history.History at 0x7f5ecc204d40>"
      ]
     },
     "execution_count": 12,
     "metadata": {},
     "output_type": "execute_result"
    }
   ],
   "source": [
    "def batch_generator(X, y, batch_size=32, num_classes=None, timesteps=1):\n",
    "    num_samples = X.shape[0]\n",
    "    features_per_timestep = X.shape[1] // timesteps\n",
    "    while True:\n",
    "        for start in range(0, num_samples, batch_size):\n",
    "            end = min(start + batch_size, num_samples)\n",
    "            X_batch = X[start:end].toarray()  # Convert only this slice to dense\n",
    "            X_batch = X_batch.reshape(-1, timesteps, features_per_timestep)  # Reshape for LSTM\n",
    "            y_batch = to_categorical(y[start:end], num_classes=num_classes)\n",
    "            yield (X_batch, y_batch)\n",
    "\n",
    "\n",
    "# Setup the model\n",
    "model = Sequential([\n",
    "    LSTM(256, input_shape=(None, X_train.shape[1]), activation='relu', return_sequences=True),\n",
    "    Dropout(0.2),\n",
    "    LSTM(128, activation='relu'),\n",
    "    Dense(256, activation='relu'),\n",
    "    Dropout(0.2),\n",
    "    Dense(128, activation='relu'),\n",
    "    Dense(np.max(y_train) + 1, activation='softmax')\n",
    "])\n",
    "\n",
    "# Compile the model\n",
    "model.compile(loss='categorical_crossentropy', optimizer='adam', metrics=['accuracy'])\n",
    "\n",
    "# Train the model using a generator\n",
    "train_generator = batch_generator(X_train, y_train, batch_size=128, num_classes=np.max(y_train) + 1, timesteps=1)\n",
    "model.fit(train_generator, epochs=20, steps_per_epoch=int(np.ceil(X_train.shape[0] / 128)))"
   ]
  },
  {
   "cell_type": "code",
   "execution_count": 13,
   "metadata": {},
   "outputs": [],
   "source": [
    "test_generator = batch_generator(X_test, y_test, batch_size=32, num_classes=np.max(y_train) + 1, timesteps=1)"
   ]
  },
  {
   "cell_type": "code",
   "execution_count": 14,
   "metadata": {},
   "outputs": [
    {
     "name": "stderr",
     "output_type": "stream",
     "text": [
      "I0000 00:00:1714749373.317353   35709 asm_compiler.cc:369] ptxas warning : Registers are spilled to local memory in function 'triton_gemm_dot_27', 16 bytes spill stores, 16 bytes spill loads\n",
      "\n"
     ]
    },
    {
     "name": "stdout",
     "output_type": "stream",
     "text": [
      "\u001b[1m3550/3553\u001b[0m \u001b[32m━━━━━━━━━━━━━━━━━━━\u001b[0m\u001b[37m━\u001b[0m \u001b[1m0s\u001b[0m 10ms/step"
     ]
    },
    {
     "name": "stderr",
     "output_type": "stream",
     "text": [
      "I0000 00:00:1714749412.643711   35984 asm_compiler.cc:369] ptxas warning : Registers are spilled to local memory in function 'triton_gemm_dot_27', 16 bytes spill stores, 16 bytes spill loads\n",
      "\n"
     ]
    },
    {
     "name": "stdout",
     "output_type": "stream",
     "text": [
      "\u001b[1m3553/3553\u001b[0m \u001b[32m━━━━━━━━━━━━━━━━━━━━\u001b[0m\u001b[37m\u001b[0m \u001b[1m42s\u001b[0m 11ms/step\n",
      "[[ 7119  1328   527   188  1164]\n",
      " [  734  3259   680   295   887]\n",
      " [  403   842  4502   949  1789]\n",
      " [  195   405   974  8645  5904]\n",
      " [  516   708   974  2977 67727]]\n",
      "              precision    recall  f1-score   support\n",
      "\n",
      "           1       0.79      0.69      0.74     10326\n",
      "           2       0.50      0.56      0.53      5855\n",
      "           3       0.59      0.53      0.56      8485\n",
      "           4       0.66      0.54      0.59     16123\n",
      "           5       0.87      0.93      0.90     72902\n",
      "\n",
      "    accuracy                           0.80    113691\n",
      "   macro avg       0.68      0.65      0.66    113691\n",
      "weighted avg       0.80      0.80      0.80    113691\n",
      "\n"
     ]
    }
   ],
   "source": [
    "# Evaluate the model\n",
    "predictions_prob = model.predict(test_generator, steps=int(np.ceil(X_test.shape[0] / 32)))\n",
    "predictions = np.argmax(predictions_prob, axis=1)\n",
    "\n",
    "# Metrics\n",
    "print(metrics.confusion_matrix(y_test, predictions))\n",
    "print(metrics.classification_report(y_test, predictions))"
   ]
  },
  {
   "cell_type": "code",
   "execution_count": 15,
   "metadata": {},
   "outputs": [],
   "source": [
    "# # Save the model with current date and time in model folder\n",
    "\n",
    "# Create a folder named _models in the current directory\n",
    "if not os.path.exists('_models'):\n",
    "    os.makedirs('_models')\n",
    "    \n",
    "model.save(f'_models/config1_rnn_{datetime.datetime.now().strftime(\"%Y%m%d-%H%M%S\")}.keras')"
   ]
  },
  {
   "cell_type": "code",
   "execution_count": 17,
   "metadata": {},
   "outputs": [
    {
     "name": "stdout",
     "output_type": "stream",
     "text": [
      "Number of tokens:  2\n",
      "Number of sentences:  1\n",
      "\u001b[1m1/1\u001b[0m \u001b[32m━━━━━━━━━━━━━━━━━━━━\u001b[0m\u001b[37m\u001b[0m \u001b[1m0s\u001b[0m 36ms/step\n"
     ]
    },
    {
     "name": "stdout",
     "output_type": "stream",
     "text": [
      "Test sentence: This is a good product\n",
      "Predicted score: [5]\n",
      "\n",
      "Number of tokens:  2\n",
      "Number of sentences:  1\n",
      "\u001b[1m1/1\u001b[0m \u001b[32m━━━━━━━━━━━━━━━━━━━━\u001b[0m\u001b[37m\u001b[0m \u001b[1m0s\u001b[0m 35ms/step\n",
      "Test sentence: This is a bad product\n",
      "Predicted score: [5]\n",
      "\n",
      "Number of tokens:  1\n",
      "Number of sentences:  1\n",
      "\u001b[1m1/1\u001b[0m \u001b[32m━━━━━━━━━━━━━━━━━━━━\u001b[0m\u001b[37m\u001b[0m \u001b[1m0s\u001b[0m 35ms/step\n",
      "Test sentence: This is a product\n",
      "Predicted score: [4]\n",
      "\n",
      "Number of tokens:  2\n",
      "Number of sentences:  1\n",
      "\u001b[1m1/1\u001b[0m \u001b[32m━━━━━━━━━━━━━━━━━━━━\u001b[0m\u001b[37m\u001b[0m \u001b[1m0s\u001b[0m 36ms/step\n",
      "Test sentence: This is a very good product\n",
      "Predicted score: [5]\n",
      "\n",
      "Number of tokens:  2\n",
      "Number of sentences:  1\n",
      "\u001b[1m1/1\u001b[0m \u001b[32m━━━━━━━━━━━━━━━━━━━━\u001b[0m\u001b[37m\u001b[0m \u001b[1m0s\u001b[0m 35ms/step\n",
      "Test sentence: This is a very bad product\n",
      "Predicted score: [5]\n",
      "\n",
      "Number of tokens:  1\n",
      "Number of sentences:  1\n",
      "\u001b[1m1/1\u001b[0m \u001b[32m━━━━━━━━━━━━━━━━━━━━\u001b[0m\u001b[37m\u001b[0m \u001b[1m0s\u001b[0m 35ms/step\n",
      "Test sentence: That was bad\n",
      "Predicted score: [5]\n",
      "\n"
     ]
    }
   ],
   "source": [
    "# test the model\n",
    "test_sentences = [\n",
    "    'This is a good product',\n",
    "    'This is a bad product',\n",
    "    'This is a product',\n",
    "    'This is a very good product',\n",
    "    'This is a very bad product',\n",
    "    'That was bad'\n",
    "]\n",
    "\n",
    "for sentence in test_sentences:\n",
    "    test_tokenized = tokenizer([sentence])\n",
    "    test_vec = vect.transform(test_tokenized)\n",
    "    test_vec_dense = test_vec.toarray()  # Convert sparse tensor to dense tensor\n",
    "    test_vec_lstm = test_vec_dense.reshape(-1, 1, X.shape[1])\n",
    "    result = model.predict(test_vec_lstm)\n",
    "    predicted_class = np.argmax(result, axis=-1)\n",
    "    predicted_score = predicted_class\n",
    "    print(f\"Test sentence: {sentence}\")\n",
    "    print(f\"Predicted score: {predicted_score}\")\n",
    "    print()"
   ]
  }
 ],
 "metadata": {
  "kernelspec": {
   "display_name": "nlp1",
   "language": "python",
   "name": "python3"
  },
  "language_info": {
   "codemirror_mode": {
    "name": "ipython",
    "version": 3
   },
   "file_extension": ".py",
   "mimetype": "text/x-python",
   "name": "python",
   "nbconvert_exporter": "python",
   "pygments_lexer": "ipython3",
   "version": "3.12.2"
  }
 },
 "nbformat": 4,
 "nbformat_minor": 2
}

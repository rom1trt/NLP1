{
 "cells": [
  {
   "cell_type": "code",
   "execution_count": 1,
   "metadata": {},
   "outputs": [
    {
     "name": "stdout",
     "output_type": "stream",
     "text": [
      "Requirement already satisfied: pandas in /opt/mamba/lib/python3.12/site-packages (2.2.2)\n",
      "Requirement already satisfied: numpy>=1.26.0 in /opt/mamba/lib/python3.12/site-packages (from pandas) (1.26.4)\n",
      "Requirement already satisfied: python-dateutil>=2.8.2 in /opt/mamba/lib/python3.12/site-packages (from pandas) (2.9.0)\n",
      "Requirement already satisfied: pytz>=2020.1 in /opt/mamba/lib/python3.12/site-packages (from pandas) (2024.1)\n",
      "Requirement already satisfied: tzdata>=2022.7 in /opt/mamba/lib/python3.12/site-packages (from pandas) (2024.1)\n",
      "Requirement already satisfied: six>=1.5 in /opt/mamba/lib/python3.12/site-packages (from python-dateutil>=2.8.2->pandas) (1.16.0)\n",
      "Requirement already satisfied: scikit-learn in /opt/mamba/lib/python3.12/site-packages (1.4.2)\n",
      "Requirement already satisfied: numpy>=1.19.5 in /opt/mamba/lib/python3.12/site-packages (from scikit-learn) (1.26.4)\n",
      "Requirement already satisfied: scipy>=1.6.0 in /opt/mamba/lib/python3.12/site-packages (from scikit-learn) (1.13.0)\n",
      "Requirement already satisfied: joblib>=1.2.0 in /opt/mamba/lib/python3.12/site-packages (from scikit-learn) (1.4.2)\n",
      "Requirement already satisfied: threadpoolctl>=2.0.0 in /opt/mamba/lib/python3.12/site-packages (from scikit-learn) (3.5.0)\n",
      "Requirement already satisfied: nltk in /opt/mamba/lib/python3.12/site-packages (3.8.1)\n",
      "Requirement already satisfied: click in /opt/mamba/lib/python3.12/site-packages (from nltk) (8.1.7)\n",
      "Requirement already satisfied: joblib in /opt/mamba/lib/python3.12/site-packages (from nltk) (1.4.2)\n",
      "Requirement already satisfied: regex>=2021.8.3 in /opt/mamba/lib/python3.12/site-packages (from nltk) (2024.4.28)\n",
      "Requirement already satisfied: tqdm in /opt/mamba/lib/python3.12/site-packages (from nltk) (4.66.2)\n",
      "Requirement already satisfied: tiktoken in /opt/mamba/lib/python3.12/site-packages (0.6.0)\n",
      "Requirement already satisfied: regex>=2022.1.18 in /opt/mamba/lib/python3.12/site-packages (from tiktoken) (2024.4.28)\n",
      "Requirement already satisfied: requests>=2.26.0 in /opt/mamba/lib/python3.12/site-packages (from tiktoken) (2.31.0)\n",
      "Requirement already satisfied: charset-normalizer<4,>=2 in /opt/mamba/lib/python3.12/site-packages (from requests>=2.26.0->tiktoken) (3.3.2)\n",
      "Requirement already satisfied: idna<4,>=2.5 in /opt/mamba/lib/python3.12/site-packages (from requests>=2.26.0->tiktoken) (3.6)\n",
      "Requirement already satisfied: urllib3<3,>=1.21.1 in /opt/mamba/lib/python3.12/site-packages (from requests>=2.26.0->tiktoken) (1.26.18)\n",
      "Requirement already satisfied: certifi>=2017.4.17 in /opt/mamba/lib/python3.12/site-packages (from requests>=2.26.0->tiktoken) (2024.2.2)\n"
     ]
    }
   ],
   "source": [
    "!pip install pandas\n",
    "!pip install scikit-learn\n",
    "!pip install nltk\n",
    "!pip install tiktoken"
   ]
  },
  {
   "cell_type": "code",
   "execution_count": 2,
   "metadata": {},
   "outputs": [
    {
     "name": "stderr",
     "output_type": "stream",
     "text": [
      "[nltk_data] Downloading package punkt to /home/onyxia/nltk_data...\n",
      "[nltk_data]   Package punkt is already up-to-date!\n",
      "[nltk_data] Downloading package stopwords to /home/onyxia/nltk_data...\n",
      "[nltk_data]   Package stopwords is already up-to-date!\n"
     ]
    }
   ],
   "source": [
    "import pandas as pd\n",
    "import nltk\n",
    "from nltk.tokenize import word_tokenize, sent_tokenize\n",
    "from nltk.corpus import stopwords\n",
    "import sklearn as sk\n",
    "import sklearn.model_selection\n",
    "\n",
    "import tiktoken\n",
    "\n",
    "nltk.download('punkt')\n",
    "nltk.download('stopwords')\n",
    "\n",
    "def tokenizer(X):\n",
    "    stop_words = set(stopwords.words('english'))\n",
    "    num_tokens = 0\n",
    "    num_sentences = 0\n",
    "    tokenized_documents = []\n",
    "    for text in X:\n",
    "        sentences = sent_tokenize(text)\n",
    "        num_sentences += len(sentences)\n",
    "        tokenized_sentences = [nltk.RegexpTokenizer(r\"\\w+\").tokenize(s) for s in sentences]\n",
    "        tokenized_document = [word.lower() for sentence in tokenized_sentences for word in sentence if word.lower() not in stop_words]\n",
    "        num_tokens += len(tokenized_document)\n",
    "        tokenized_documents.append(tokenized_document)\n",
    "    print(\"Number of tokens: \", num_tokens)\n",
    "    print(\"Number of sentences: \", num_sentences)\n",
    "    return tokenized_documents\n",
    "\n",
    "import sklearn as sk\n",
    "\n",
    "# tf-idf vectorizer\n",
    "def vectorizer(tokenized_documents):\n",
    "    ## tokenized_documents is a list of lists, where each inner list contains tokens\n",
    "    vectorizer = sk.feature_extraction.text.TfidfVectorizer(lowercase=False, preprocessor=None, tokenizer=lambda x: x)\n",
    "    X = vectorizer.fit_transform(tokenized_documents)\n",
    "    return X, vectorizer"
   ]
  },
  {
   "cell_type": "markdown",
   "metadata": {},
   "source": [
    "# NLTK TOKENIZER AND TF-IDF VECTORIZER"
   ]
  },
  {
   "cell_type": "code",
   "execution_count": 3,
   "metadata": {},
   "outputs": [
    {
     "name": "stderr",
     "output_type": "stream",
     "text": [
      "[nltk_data] Downloading package punkt to /home/onyxia/nltk_data...\n",
      "[nltk_data]   Package punkt is already up-to-date!\n",
      "[nltk_data] Downloading package stopwords to /home/onyxia/nltk_data...\n",
      "[nltk_data]   Package stopwords is already up-to-date!\n"
     ]
    }
   ],
   "source": [
    "import sys\n",
    "sys.path.append('../')\n",
    "from tokenizer import tokenizer\n",
    "from vectorizer import vectorizer\n",
    "\n",
    "import numpy as np\n",
    "import pandas as pd\n",
    "import sklearn as sk"
   ]
  },
  {
   "cell_type": "code",
   "execution_count": 4,
   "metadata": {},
   "outputs": [],
   "source": [
    "data = pd.read_csv('../../_data/Reviews.csv') # Loading the dataset\n",
    "X, y = data['Text'], data['Score']"
   ]
  },
  {
   "cell_type": "code",
   "execution_count": 5,
   "metadata": {},
   "outputs": [],
   "source": [
    "# FOR TESTING : only select first 20000 samples\n",
    "# X, y = X[:20000], y[:20000]"
   ]
  },
  {
   "cell_type": "code",
   "execution_count": 6,
   "metadata": {},
   "outputs": [
    {
     "name": "stdout",
     "output_type": "stream",
     "text": [
      "Number of tokens:  23767229\n",
      "Number of sentences:  2832806\n"
     ]
    }
   ],
   "source": [
    "tokenized_documents = tokenizer(X)"
   ]
  },
  {
   "cell_type": "code",
   "execution_count": 7,
   "metadata": {},
   "outputs": [
    {
     "name": "stderr",
     "output_type": "stream",
     "text": [
      "/opt/mamba/lib/python3.12/site-packages/sklearn/feature_extraction/text.py:525: UserWarning: The parameter 'token_pattern' will not be used since 'tokenizer' is not None'\n",
      "  warnings.warn(\n"
     ]
    }
   ],
   "source": [
    "X, vect = vectorizer(tokenized_documents)"
   ]
  },
  {
   "cell_type": "code",
   "execution_count": 8,
   "metadata": {},
   "outputs": [
    {
     "name": "stdout",
     "output_type": "stream",
     "text": [
      "Top 10 most frequent words in the dataset\n",
      "['0' '00' '000' '0000' '000001' '00001' '000013' '0000soo' '0001'\n",
      " '000111052']\n",
      "Top 10 least frequent words in the dataset\n",
      "['¾' 'â' 'çay' 'çaykur' 'çelem' 'être' 'île' 'ît' 'ø' 'þ']\n"
     ]
    }
   ],
   "source": [
    "# most frequent words\n",
    "print(\"Top 10 most frequent words in the dataset\")\n",
    "print(vect.get_feature_names_out()[:10])\n",
    "\n",
    "# least frequent words\n",
    "print(\"Top 10 least frequent words in the dataset\")\n",
    "print(vect.get_feature_names_out()[-10:])"
   ]
  },
  {
   "cell_type": "code",
   "execution_count": 9,
   "metadata": {},
   "outputs": [],
   "source": [
    "X_train, X_test, y_train, y_test = sk.model_selection.train_test_split(X, y, test_size=0.2, random_state=42)"
   ]
  },
  {
   "cell_type": "code",
   "execution_count": 10,
   "metadata": {},
   "outputs": [
    {
     "name": "stdout",
     "output_type": "stream",
     "text": [
      "(454763, 120144) (113691, 120144) (454763,) (113691,)\n",
      "  (0, 94340)\t0.2698393204452672\n",
      "  (0, 107461)\t0.356573063664095\n",
      "  (0, 60888)\t0.6837599652000029\n",
      "  (0, 31216)\t0.37896669799521565\n",
      "  (0, 25542)\t0.19195720719400375\n",
      "  (0, 79539)\t0.28524356089653274\n",
      "  (0, 69704)\t0.22960104461763894\n",
      "  (0, 66863)\t0.13405538070127823\n"
     ]
    }
   ],
   "source": [
    "print(X_train.shape, X_test.shape, y_train.shape, y_test.shape)\n",
    "\n",
    "print(X_train[0])"
   ]
  },
  {
   "cell_type": "markdown",
   "metadata": {},
   "source": [
    "# Feed Forward Neural Network\n",
    "### Model starts here"
   ]
  },
  {
   "cell_type": "code",
   "execution_count": 18,
   "metadata": {},
   "outputs": [],
   "source": [
    "import pandas as pd\n",
    "import sklearn as sk\n",
    "from sklearn.model_selection import train_test_split\n",
    "from sklearn.feature_extraction.text import TfidfVectorizer\n",
    "import tensorflow as tf\n",
    "from tensorflow.keras.utils import to_categorical\n",
    "import numpy as np\n",
    "from tensorflow.keras.models import Sequential\n",
    "from tensorflow.keras.layers import Dense, Dropout, Add, Input\n"
   ]
  },
  {
   "cell_type": "code",
   "execution_count": 21,
   "metadata": {},
   "outputs": [
    {
     "name": "stdout",
     "output_type": "stream",
     "text": [
      "Epoch 1/20\n"
     ]
    },
    {
     "name": "stdout",
     "output_type": "stream",
     "text": [
      "\u001b[1m14212/14212\u001b[0m \u001b[32m━━━━━━━━━━━━━━━━━━━━\u001b[0m\u001b[37m\u001b[0m \u001b[1m186s\u001b[0m 13ms/step - accuracy: 0.7210 - loss: 0.7699\n",
      "Epoch 2/20\n",
      "\u001b[1m14212/14212\u001b[0m \u001b[32m━━━━━━━━━━━━━━━━━━━━\u001b[0m\u001b[37m\u001b[0m \u001b[1m178s\u001b[0m 13ms/step - accuracy: 0.8226 - loss: 0.4919\n",
      "Epoch 3/20\n",
      "\u001b[1m14212/14212\u001b[0m \u001b[32m━━━━━━━━━━━━━━━━━━━━\u001b[0m\u001b[37m\u001b[0m \u001b[1m174s\u001b[0m 12ms/step - accuracy: 0.8914 - loss: 0.3090\n",
      "Epoch 4/20\n",
      "\u001b[1m14212/14212\u001b[0m \u001b[32m━━━━━━━━━━━━━━━━━━━━\u001b[0m\u001b[37m\u001b[0m \u001b[1m173s\u001b[0m 12ms/step - accuracy: 0.9313 - loss: 0.1980\n",
      "Epoch 5/20\n",
      "\u001b[1m14212/14212\u001b[0m \u001b[32m━━━━━━━━━━━━━━━━━━━━\u001b[0m\u001b[37m\u001b[0m \u001b[1m170s\u001b[0m 12ms/step - accuracy: 0.9549 - loss: 0.1328\n",
      "Epoch 6/20\n",
      "\u001b[1m14212/14212\u001b[0m \u001b[32m━━━━━━━━━━━━━━━━━━━━\u001b[0m\u001b[37m\u001b[0m \u001b[1m172s\u001b[0m 12ms/step - accuracy: 0.9694 - loss: 0.0907\n",
      "Epoch 7/20\n",
      "\u001b[1m14212/14212\u001b[0m \u001b[32m━━━━━━━━━━━━━━━━━━━━\u001b[0m\u001b[37m\u001b[0m \u001b[1m172s\u001b[0m 12ms/step - accuracy: 0.9781 - loss: 0.0666\n",
      "Epoch 8/20\n",
      "\u001b[1m14212/14212\u001b[0m \u001b[32m━━━━━━━━━━━━━━━━━━━━\u001b[0m\u001b[37m\u001b[0m \u001b[1m174s\u001b[0m 12ms/step - accuracy: 0.9834 - loss: 0.0507\n",
      "Epoch 9/20\n",
      "\u001b[1m14212/14212\u001b[0m \u001b[32m━━━━━━━━━━━━━━━━━━━━\u001b[0m\u001b[37m\u001b[0m \u001b[1m172s\u001b[0m 12ms/step - accuracy: 0.9873 - loss: 0.0398\n",
      "Epoch 10/20\n",
      "\u001b[1m14212/14212\u001b[0m \u001b[32m━━━━━━━━━━━━━━━━━━━━\u001b[0m\u001b[37m\u001b[0m \u001b[1m171s\u001b[0m 12ms/step - accuracy: 0.9899 - loss: 0.0324\n",
      "Epoch 11/20\n",
      "\u001b[1m14212/14212\u001b[0m \u001b[32m━━━━━━━━━━━━━━━━━━━━\u001b[0m\u001b[37m\u001b[0m \u001b[1m172s\u001b[0m 12ms/step - accuracy: 0.9914 - loss: 0.0285\n",
      "Epoch 12/20\n",
      "\u001b[1m14212/14212\u001b[0m \u001b[32m━━━━━━━━━━━━━━━━━━━━\u001b[0m\u001b[37m\u001b[0m \u001b[1m172s\u001b[0m 12ms/step - accuracy: 0.9926 - loss: 0.0236\n",
      "Epoch 13/20\n",
      "\u001b[1m14212/14212\u001b[0m \u001b[32m━━━━━━━━━━━━━━━━━━━━\u001b[0m\u001b[37m\u001b[0m \u001b[1m172s\u001b[0m 12ms/step - accuracy: 0.9933 - loss: 0.0216\n",
      "Epoch 14/20\n",
      "\u001b[1m14212/14212\u001b[0m \u001b[32m━━━━━━━━━━━━━━━━━━━━\u001b[0m\u001b[37m\u001b[0m \u001b[1m173s\u001b[0m 12ms/step - accuracy: 0.9943 - loss: 0.0192\n",
      "Epoch 15/20\n",
      "\u001b[1m14212/14212\u001b[0m \u001b[32m━━━━━━━━━━━━━━━━━━━━\u001b[0m\u001b[37m\u001b[0m \u001b[1m176s\u001b[0m 12ms/step - accuracy: 0.9947 - loss: 0.0176\n",
      "Epoch 16/20\n",
      "\u001b[1m14212/14212\u001b[0m \u001b[32m━━━━━━━━━━━━━━━━━━━━\u001b[0m\u001b[37m\u001b[0m \u001b[1m172s\u001b[0m 12ms/step - accuracy: 0.9953 - loss: 0.0162\n",
      "Epoch 17/20\n",
      "\u001b[1m14212/14212\u001b[0m \u001b[32m━━━━━━━━━━━━━━━━━━━━\u001b[0m\u001b[37m\u001b[0m \u001b[1m174s\u001b[0m 12ms/step - accuracy: 0.9955 - loss: 0.0152\n",
      "Epoch 18/20\n",
      "\u001b[1m14212/14212\u001b[0m \u001b[32m━━━━━━━━━━━━━━━━━━━━\u001b[0m\u001b[37m\u001b[0m \u001b[1m170s\u001b[0m 12ms/step - accuracy: 0.9958 - loss: 0.0144\n",
      "Epoch 19/20\n",
      "\u001b[1m14212/14212\u001b[0m \u001b[32m━━━━━━━━━━━━━━━━━━━━\u001b[0m\u001b[37m\u001b[0m \u001b[1m171s\u001b[0m 12ms/step - accuracy: 0.9960 - loss: 0.0140\n",
      "Epoch 20/20\n",
      "\u001b[1m14212/14212\u001b[0m \u001b[32m━━━━━━━━━━━━━━━━━━━━\u001b[0m\u001b[37m\u001b[0m \u001b[1m171s\u001b[0m 12ms/step - accuracy: 0.9961 - loss: 0.0136\n"
     ]
    },
    {
     "data": {
      "text/plain": [
       "<keras.src.callbacks.history.History at 0x7f901813b530>"
      ]
     },
     "execution_count": 21,
     "metadata": {},
     "output_type": "execute_result"
    }
   ],
   "source": [
    "import numpy as np\n",
    "import tensorflow as tf\n",
    "from tensorflow.keras.models import Model\n",
    "from tensorflow.keras.layers import Input, Dense, Dropout, Add\n",
    "from tensorflow.keras.utils import to_categorical\n",
    "\n",
    "def batch_generator(X, y, batch_size=32, num_classes=None):\n",
    "    num_samples = X.shape[0]\n",
    "    while True:\n",
    "        for start in range(0, num_samples, batch_size):\n",
    "            end = min(start + batch_size, num_samples)\n",
    "            X_batch = X[start:end].toarray()  # Convert only this slice to dense\n",
    "            y_batch = to_categorical(y[start:end], num_classes=num_classes)\n",
    "            yield (X_batch, y_batch)\n",
    "\n",
    "# Setup the model\n",
    "inputs = Input(shape=(X_train.shape[1],))\n",
    "x = Dense(512, activation='relu')(inputs)\n",
    "x = Dropout(0.2)(x)\n",
    "x = Dense(256, activation='relu')(x)\n",
    "x = Dropout(0.2)(x)\n",
    "residual = Dense(64, activation='relu')(x)  # Adjust the residual shape\n",
    "\n",
    "x = Dense(128, activation='relu')(x)\n",
    "x = Dropout(0.2)(x)\n",
    "x = Dense(64, activation='relu')(x)\n",
    "x = Add()([x, residual])  # Add residual connection\n",
    "x = Dense(32, activation='relu')(x)\n",
    "outputs = Dense(np.max(y_train) + 1, activation='softmax')(x)\n",
    "\n",
    "model = Model(inputs=inputs, outputs=outputs)\n",
    "\n",
    "# Compile the model\n",
    "model.compile(loss='categorical_crossentropy', optimizer='adam', metrics=['accuracy'])\n",
    "\n",
    "# Train the model using a generator\n",
    "train_generator = batch_generator(X_train, y_train, batch_size=32, num_classes=np.max(y_train) + 1)\n",
    "model.fit(train_generator, epochs=20, steps_per_epoch=int(np.ceil(X_train.shape[0] / 32)))"
   ]
  },
  {
   "cell_type": "code",
   "execution_count": 29,
   "metadata": {},
   "outputs": [],
   "source": [
    "test_generator = batch_generator(X_test, y_test, batch_size=32, num_classes=np.max(y_train) + 1)"
   ]
  },
  {
   "cell_type": "code",
   "execution_count": 30,
   "metadata": {},
   "outputs": [
    {
     "name": "stdout",
     "output_type": "stream",
     "text": [
      "\u001b[1m3553/3553\u001b[0m \u001b[32m━━━━━━━━━━━━━━━━━━━━\u001b[0m\u001b[37m\u001b[0m \u001b[1m44s\u001b[0m 11ms/step\n",
      "[[ 7490   852   579   229  1176]\n",
      " [  880  2955   725   320   975]\n",
      " [  534   559  4566   976  1850]\n",
      " [  324   245   852  8656  6046]\n",
      " [  709   347   777  2856 68213]]\n",
      "              precision    recall  f1-score   support\n",
      "\n",
      "           1       0.75      0.73      0.74     10326\n",
      "           2       0.60      0.50      0.55      5855\n",
      "           3       0.61      0.54      0.57      8485\n",
      "           4       0.66      0.54      0.59     16123\n",
      "           5       0.87      0.94      0.90     72902\n",
      "\n",
      "    accuracy                           0.81    113691\n",
      "   macro avg       0.70      0.65      0.67    113691\n",
      "weighted avg       0.80      0.81      0.80    113691\n",
      "\n"
     ]
    }
   ],
   "source": [
    "# Evaluate the model\n",
    "predictions_prob = model.predict(test_generator, steps=int(np.ceil(X_test.shape[0] / 32)))\n",
    "predictions = np.argmax(predictions_prob, axis=1)\n",
    "\n",
    "# Metrics\n",
    "from sklearn import metrics\n",
    "print(metrics.confusion_matrix(y_test, predictions))\n",
    "print(metrics.classification_report(y_test, predictions))"
   ]
  },
  {
   "cell_type": "code",
   "execution_count": 31,
   "metadata": {},
   "outputs": [],
   "source": [
    "# Save the model with current date and time in model folder\n",
    "import datetime\n",
    "\n",
    "# Create a folder named _models in the current directory\n",
    "import os\n",
    "if not os.path.exists('_models'):\n",
    "    os.makedirs('_models')\n",
    "    \n",
    "model.save(f'_models/config1_feedforward_{datetime.datetime.now().strftime(\"%Y%m%d-%H%M%S\")}.keras')"
   ]
  },
  {
   "cell_type": "code",
   "execution_count": 35,
   "metadata": {},
   "outputs": [
    {
     "name": "stdout",
     "output_type": "stream",
     "text": [
      "Number of tokens:  2\n",
      "Number of sentences:  1\n",
      "\u001b[1m1/1\u001b[0m \u001b[32m━━━━━━━━━━━━━━━━━━━━\u001b[0m\u001b[37m\u001b[0m \u001b[1m0s\u001b[0m 65ms/step\n",
      "Test sentence: This is a good product\n",
      "Predicted score: 6\n",
      "\n",
      "Number of tokens:  2\n",
      "Number of sentences:  1\n",
      "\u001b[1m1/1\u001b[0m \u001b[32m━━━━━━━━━━━━━━━━━━━━\u001b[0m\u001b[37m\u001b[0m \u001b[1m0s\u001b[0m 47ms/step\n"
     ]
    },
    {
     "name": "stdout",
     "output_type": "stream",
     "text": [
      "Test sentence: This is a bad product\n",
      "Predicted score: 5\n",
      "\n",
      "Number of tokens:  1\n",
      "Number of sentences:  1\n",
      "\u001b[1m1/1\u001b[0m \u001b[32m━━━━━━━━━━━━━━━━━━━━\u001b[0m\u001b[37m\u001b[0m \u001b[1m0s\u001b[0m 47ms/step\n",
      "Test sentence: This is a product\n",
      "Predicted score: 5\n",
      "\n",
      "Number of tokens:  2\n",
      "Number of sentences:  1\n",
      "\u001b[1m1/1\u001b[0m \u001b[32m━━━━━━━━━━━━━━━━━━━━\u001b[0m\u001b[37m\u001b[0m \u001b[1m0s\u001b[0m 45ms/step\n",
      "Test sentence: This is a very good product\n",
      "Predicted score: 6\n",
      "\n",
      "Number of tokens:  2\n",
      "Number of sentences:  1\n",
      "\u001b[1m1/1\u001b[0m \u001b[32m━━━━━━━━━━━━━━━━━━━━\u001b[0m\u001b[37m\u001b[0m \u001b[1m0s\u001b[0m 46ms/step\n",
      "Test sentence: This is a very bad product\n",
      "Predicted score: 5\n",
      "\n",
      "Number of tokens:  1\n",
      "Number of sentences:  1\n",
      "\u001b[1m1/1\u001b[0m \u001b[32m━━━━━━━━━━━━━━━━━━━━\u001b[0m\u001b[37m\u001b[0m \u001b[1m0s\u001b[0m 43ms/step\n",
      "Test sentence: That was bad\n",
      "Predicted score: 2\n",
      "\n"
     ]
    }
   ],
   "source": [
    "# test the model\n",
    "test_sentences = [\n",
    "    'This is a good product',\n",
    "    'This is a bad product',\n",
    "    'This is a product',\n",
    "    'This is a very good product',\n",
    "    'This is a very bad product',\n",
    "    'That was bad'\n",
    "]\n",
    "\n",
    "for sentence in test_sentences:\n",
    "    test_tokenized = tokenizer([sentence])\n",
    "    test_vec = vect.transform(test_tokenized)\n",
    "    test_vec_dense = test_vec.toarray()  # Convert sparse tensor to dense tensor\n",
    "    result = model.predict(test_vec_dense)\n",
    "    predicted_score = result.argmax() + 1\n",
    "    print(f\"Test sentence: {sentence}\")\n",
    "    print(f\"Predicted score: {predicted_score}\")\n",
    "    print()"
   ]
  }
 ],
 "metadata": {
  "kernelspec": {
   "display_name": "nlp1",
   "language": "python",
   "name": "python3"
  },
  "language_info": {
   "codemirror_mode": {
    "name": "ipython",
    "version": 3
   },
   "file_extension": ".py",
   "mimetype": "text/x-python",
   "name": "python",
   "nbconvert_exporter": "python",
   "pygments_lexer": "ipython3",
   "version": "3.12.2"
  }
 },
 "nbformat": 4,
 "nbformat_minor": 2
}

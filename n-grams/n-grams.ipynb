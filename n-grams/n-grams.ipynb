{
 "cells": [
  {
   "cell_type": "markdown",
   "id": "81888c53",
   "metadata": {},
   "source": [
    "# NLTK TOKENIZER AND TF-IDF VECTORIZER"
   ]
  },
  {
   "cell_type": "code",
   "execution_count": 1,
   "id": "9e1048ed",
   "metadata": {},
   "outputs": [
    {
     "name": "stderr",
     "output_type": "stream",
     "text": [
      "[nltk_data] Downloading package punkt to /home/alexandre/nltk_data...\n",
      "[nltk_data]   Package punkt is already up-to-date!\n",
      "[nltk_data] Downloading package stopwords to\n",
      "[nltk_data]     /home/alexandre/nltk_data...\n",
      "[nltk_data]   Package stopwords is already up-to-date!\n"
     ]
    }
   ],
   "source": [
    "import sys\n",
    "sys.path.append('../')\n",
    "from tokenizer import tokenizer\n",
    "from vectorizer import vectorizer\n",
    "from sklearn.model_selection import train_test_split\n",
    "import numpy as np\n",
    "import pandas as pd\n",
    "import sklearn as sk\n",
    "from collections import Counter\n",
    "import re"
   ]
  },
  {
   "cell_type": "code",
   "execution_count": 12,
   "id": "6df09f4a",
   "metadata": {},
   "outputs": [],
   "source": [
    "data = pd.read_csv('../../_data/Reviews.csv') # Loading the dataset\n",
    "X, y = data['Text'], data['Score'] # Separating the data into input and output\n",
    "\n",
    "# Function to tokenize each review in X_train\n",
    "# puts them in a list\n",
    "def tokenize_by_space(X_train):\n",
    "    token_list = [review.split() for review in X_train]\n",
    "    flattened_X_train = [word for review in token_list for word in review]\n",
    "    return flattened_X_train\n",
    "\n",
    "def tokenize_by_space_and_lowercase(X_train):\n",
    "    token_list = [review.lower().split() for review in X_train]\n",
    "    flattened_X_train = [word for review in token_list for word in review]\n",
    "    return flattened_X_train\n",
    "\n",
    "def tokenize_by_space_lowercase_and_punctuation(X_train):\n",
    "    tokens_with_punctuation = []\n",
    "    for token in X_train:\n",
    "        token_lower = token.lower()\n",
    "        tokens_with_punctuation.extend(re.findall(r\"[\\w']+|[^\\w\\s]\", token_lower))\n",
    "    return tokens_with_punctuation\n",
    "\n",
    "smaller_X = X[:100000] # Add [:100] to get only the first 100 rows of the dataset\n",
    "X_train, X_test = train_test_split(smaller_X, test_size=0.2, random_state=42) #split into X_train and X_test \n",
    "\n",
    "\n"
   ]
  },
  {
   "cell_type": "code",
   "execution_count": 35,
   "id": "d80b0fc6",
   "metadata": {},
   "outputs": [],
   "source": [
    "test = tokenize_by_space(X_test)\n",
    "train = tokenize_by_space(X_train)\n"
   ]
  },
  {
   "cell_type": "code",
   "execution_count": 36,
   "id": "decf6e35",
   "metadata": {},
   "outputs": [
    {
     "name": "stdout",
     "output_type": "stream",
     "text": [
      "['We', 'have', 'two', 'St.', 'Bernards,', 'one', 'of', 'whom', 'is', 'close', 'to', 'ancient,', 'and', 'last', 'year', 'she', 'developed', 'a', 'dental', 'problem.', 'Someone', 'mentioned', 'GREENIES', 'and', 'off', 'we', 'went', 'to', 'find', 'our', 'old', 'girl', 'something', 'to', 'help', 'her', 'age', 'gracefully', 'and', 'hopefully', 'without', 'pain.', 'Well,', 'she', 'just', 'loved', 'them', '-', 'as', 'did', 'the', 'younger', 'Saint', '-', 'and', 'here', 'we', 'are', 'a', 'couple', 'of', 'thousand', 'dollars', 'later', 'wondering', 'how', 'to', 'wean', 'at', 'least', 'the', 'younger', 'dog', 'off', 'these', 'obviously', 'addictive', 'green', 'hard', 'gel', 'bones', 'that', \"don't\", 'have', 'a', 'single', 'expensive', 'ingredient', 'in', 'them.', 'The', 'packaging,', 'however,', 'is', 'nicer', 'than', 'that', 'of', 'most', 'department']\n",
      "6496499\n"
     ]
    }
   ],
   "source": [
    "print(train[:100])\n",
    "print(len(train))"
   ]
  },
  {
   "cell_type": "markdown",
   "id": "af1f7816",
   "metadata": {},
   "source": [
    "# N-grams\n",
    "### Model starts here"
   ]
  },
  {
   "cell_type": "code",
   "execution_count": 37,
   "id": "64043c72-b8b8-4bc3-b73b-00da866bfed6",
   "metadata": {},
   "outputs": [],
   "source": [
    "#Import all libraries\n",
    "from collections import defaultdict\n",
    "from collections import  defaultdict\n",
    "import math\n",
    "import random"
   ]
  },
  {
   "cell_type": "code",
   "execution_count": 38,
   "id": "6ff2389f-dd46-4861-9bf7-dbb5c197cdfa",
   "metadata": {},
   "outputs": [],
   "source": [
    "def Create_And_Count_ngrams(tokens, n):\n",
    "    # Creates n-grams and counts their occurrences\n",
    "    ngram_counts = defaultdict(int)\n",
    "    \n",
    "    for i in range(len(tokens) - n + 1):\n",
    "        ngram = tuple(tokens[i:i+n])\n",
    "        ngram_counts[ngram] += 1\n",
    "    \n",
    "    return ngram_counts\n",
    "    \n",
    "\n",
    "def add_laplace(ngram, k):\n",
    "    # Applies Laplace smoothing \n",
    "    for key in ngram:\n",
    "        ngram[key] += k\n",
    "\n",
    "def Create_ngram(train, test, n, k=0.00001):\n",
    "# Creates the needed n-gram\n",
    "    \n",
    "    token_set = set(train)  # To not have duplicate tokens\n",
    "    len_token_set = len(token_set)\n",
    "    \n",
    "    # Step 1: Count n-grams and (n-1)-grams \n",
    "    tmp_ng_with_count = Create_And_Count_ngrams(train, n)\n",
    "    prefix_count = Create_And_Count_ngrams(train, n - 1)\n",
    "    final_ng = defaultdict(float)\n",
    "\n",
    "    # Step 2: Apply Laplace smoothing\n",
    "    add_laplace(tmp_ng_with_count, k)\n",
    "    add_laplace(prefix_count, k)\n",
    "   \n",
    "    # Step 3: Calculate n-gram probabilities\n",
    "    for ng in tmp_ng_with_count:\n",
    "        final_ng[ng] = (tmp_ng_with_count[ng] + k) / (prefix_count[ng[:-1]] + k * len_token_set)\n",
    "\n",
    "    # Step 4: Fixing unseen data that exists in the test set\n",
    "    for i in range(len(test) - n + 1):\n",
    "        ng = tuple(test[i:i + n])\n",
    "        if ng not in tmp_ng_with_count:\n",
    "            final_ng[ng] = k / (prefix_count[ng[:-1]] + k * len_token_set)\n",
    "    return final_ng\n",
    "\n",
    "def greedy_sampling(context, ngram_probabilities, n, max_length=50):\n",
    "    # Take the most probable option only\n",
    "    sentence = []\n",
    "    sentence.extend(tuple(context[-(n):]))\n",
    "\n",
    "    # Check is context toot small\n",
    "    if len(context) < (n-1):\n",
    "        print(\"context too small\")\n",
    "        return sentence\n",
    "\n",
    "    context = tuple(context[-(n-1):])  \n",
    "    \n",
    "    for _ in range(max_length):\n",
    "        probs = {}\n",
    "        \n",
    "        for token in ngram_probabilities:\n",
    "            if token[:n-1] == context:\n",
    "                probs[token[-1]] = ngram_probabilities[token]\n",
    "\n",
    "        if not probs:\n",
    "            print(\"No token possible in context\")\n",
    "            return sentence\n",
    "\n",
    "        # For greedy algorithm\n",
    "        best_token = max(probs, key=probs.get)  \n",
    "\n",
    "        if best_token not in probs:\n",
    "            print(\"No best token possible\")\n",
    "            return sentence\n",
    "\n",
    "        sentence.append(best_token)\n",
    "        context = context[1:] + (best_token,) \n",
    "\n",
    "    return sentence\n",
    "\n",
    "import random\n",
    "\n",
    "def top_k(context, ngram_probabilities, n, max_length=50, k=1):\n",
    "    # Top k version. if k = 1, same result as greedy\n",
    "    sentence = []\n",
    "    sentence.extend(tuple(context[-(n):]))\n",
    "\n",
    "    # Check if context too small\n",
    "    if len(context) < (n-1):\n",
    "        print(\"context too small\")\n",
    "        return sentence\n",
    "\n",
    "    context = tuple(context[-(n-1):])  \n",
    "    \n",
    "    for _ in range(max_length):\n",
    "        probs = {}\n",
    "        \n",
    "        for token in ngram_probabilities:\n",
    "            if token[:n-1] == context:\n",
    "                probs[token[-1]] = ngram_probabilities[token]\n",
    "\n",
    "        if not probs:\n",
    "            print(\"No token possible in context\")\n",
    "            return sentence\n",
    "\n",
    "        # Selecting top k tokens probabilistically\n",
    "        top_k_tokens = sorted(probs, key=probs.get, reverse=True)[:k]\n",
    "\n",
    "        token_weights = [probs[token] for token in top_k_tokens]\n",
    "        best_token = random.choices(top_k_tokens, weights=token_weights, k=1)[0]\n",
    "\n",
    "\n",
    "        if best_token not in probs:\n",
    "            print(\"No best token possible\")\n",
    "            return sentence\n",
    "\n",
    "        sentence.append(best_token)\n",
    "        context = context[1:] + (best_token,) \n",
    "\n",
    "    return sentence\n",
    "\n",
    "def calculate_perplexity(test, ngram, n):\n",
    "    # Calculates perplexity\n",
    "    log_probability_sum = 0\n",
    "    ngram_count = 0\n",
    "    \n",
    "    for i in range(len(test)-n+1):\n",
    "        log_probability_sum += math.log2(ngram[tuple(test[i:i+n])])\n",
    "        ngram_count += 1\n",
    "    \n",
    "    average_log_probability = -log_probability_sum / ngram_count\n",
    "    perplexity = math.pow(2, average_log_probability)\n",
    "    \n",
    "    return perplexity\n",
    "\n",
    "def calculate_coverage(test_data, ngram_probabilities):\n",
    "    # Count the number of n-grams in the test data\n",
    "    total_ngrams = len(test_data) - (n - 1) * len(test_data)\n",
    "    \n",
    "    # Check if there are n-grams in the test data\n",
    "    if total_ngrams == 0:\n",
    "        return 0\n",
    "    \n",
    "    # Count the number of n-grams covered by the n-gram model\n",
    "    covered_ngrams = sum(1 for ng in test_data if ng in ngram_probabilities)\n",
    "    \n",
    "    # Calculate coverage percentage\n",
    "    coverage_percentage = (covered_ngrams / total_ngrams) * 100\n",
    "    \n",
    "    return coverage_percentage\n",
    "\n"
   ]
  },
  {
   "cell_type": "code",
   "execution_count": 50,
   "id": "090405ba-3913-428d-a9c2-7703ff27d12c",
   "metadata": {},
   "outputs": [],
   "source": [
    "n = 5 # Choose the desired n-gram size\n",
    "k = 0.0001  # Choose the desired smoothing factor\n",
    "k2 = 5  # Choose the desired top k value\n",
    "\n",
    "\n",
    "# Create n-gram probabilities using the dense matrix\n",
    "ngram_probabilities = Create_ngram(train,test, n, k)\n",
    "\n",
    "# Use ngram_probabilities for further processing, such as perplexity calculation or sampling"
   ]
  },
  {
   "cell_type": "code",
   "execution_count": 51,
   "id": "afeff3a9-3bc4-45bb-8aaf-1e2a59776454",
   "metadata": {},
   "outputs": [
    {
     "name": "stdout",
     "output_type": "stream",
     "text": [
      "Training Perplexity: 17.45639959537635\n",
      "Test Perplexity: 23722.516059924772\n"
     ]
    }
   ],
   "source": [
    "from collections import Counter\n",
    "\n",
    "# Calculate perplexity for the training data\n",
    "train_perplexity = calculate_perplexity(train, ngram_probabilities, n)\n",
    "print(f\"Training Perplexity: {train_perplexity}\")\n",
    "\n",
    "# Calculate perplexity for the test data\n",
    "test_perplexity = calculate_perplexity(test, ngram_probabilities, n)\n",
    "print(f\"Test Perplexity: {test_perplexity}\")"
   ]
  },
  {
   "cell_type": "code",
   "execution_count": 52,
   "id": "7ade6588-6397-463c-bbec-c32c5fc28b89",
   "metadata": {},
   "outputs": [
    {
     "name": "stdout",
     "output_type": "stream",
     "text": [
      "['I', 'am', 'very', 'satisfied', 'with', 'the', 'product', 'and', 'the', 'lightning', \"delivery...I've\", 'shopped', 'thru', 'Amazon', 'for', 'years', 'and', 'this', 'is', 'the', 'only', 'one', 'I', 'use.', 'Not', 'as', 'tasty', 'as', 'the', 'other', 'reviewers', 'have', 'said,', 'is', 'great', 'to', 'mix', 'into', 'other', 'foods.', \"I've\", 'tried', 'to', 'reconstitute', 'it', 'in', 'order', 'to', 'really', 'enjoy', 'the', 'depth.', 'I', 'like', 'the']\n"
     ]
    }
   ],
   "source": [
    "context = ['I','am','very','satisfied','with']\n",
    "print(top_k(context, ngram_probabilities, n, 50, k2))\n"
   ]
  },
  {
   "cell_type": "code",
   "execution_count": 54,
   "id": "4645059a",
   "metadata": {},
   "outputs": [
    {
     "name": "stdout",
     "output_type": "stream",
     "text": [
      "['I', 'am', 'very', 'satisfied', 'with', 'the', 'taste', 'and', 'texture', 'of', 'this', 'pasta', 'is', 'beyond', 'compare.', 'I', 'have', 'not', 'bought', 'store', 'pasta', 'since', 'and', 'will', 'never', 'buy', 'from', 'a', 'grocery', 'store', 'again.<br', '/>THE', 'BEST', 'PASTA', 'EVER!', \"Lucy's\", 'is', 'one', 'of', 'the', 'best', 'tasting', 'bars', \"I've\", 'eaten...', 'ever.', 'I', 'love', 'the', 'tangy', 'taste', 'of', 'the', 'cherry', 'and']\n"
     ]
    }
   ],
   "source": [
    "context = ['I','am','very','satisfied','with']\n",
    "print(greedy_sampling(context, ngram_probabilities, n))"
   ]
  },
  {
   "cell_type": "code",
   "execution_count": null,
   "id": "1024231a",
   "metadata": {},
   "outputs": [],
   "source": []
  },
  {
   "cell_type": "code",
   "execution_count": null,
   "id": "96ff08ef",
   "metadata": {},
   "outputs": [],
   "source": []
  }
 ],
 "metadata": {
  "kernelspec": {
   "display_name": "Python 3 (ipykernel)",
   "language": "python",
   "name": "python3"
  },
  "language_info": {
   "codemirror_mode": {
    "name": "ipython",
    "version": 3
   },
   "file_extension": ".py",
   "mimetype": "text/x-python",
   "name": "python",
   "nbconvert_exporter": "python",
   "pygments_lexer": "ipython3",
   "version": "3.10.12"
  }
 },
 "nbformat": 4,
 "nbformat_minor": 5
}

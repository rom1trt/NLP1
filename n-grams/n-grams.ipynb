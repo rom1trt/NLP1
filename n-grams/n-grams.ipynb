{
 "cells": [
  {
   "cell_type": "markdown",
   "id": "81888c53",
   "metadata": {},
   "source": [
    "# NLTK TOKENIZER AND TF-IDF VECTORIZER"
   ]
  },
  {
   "cell_type": "code",
   "execution_count": 1,
   "id": "9e1048ed",
   "metadata": {},
   "outputs": [],
   "source": [
    "import sys\n",
    "sys.path.append('../')\n",
    "from sklearn.model_selection import train_test_split\n",
    "import numpy as np\n",
    "import pandas as pd\n",
    "import sklearn as sk\n",
    "from collections import Counter\n",
    "import re"
   ]
  },
  {
   "cell_type": "code",
   "execution_count": 2,
   "id": "6df09f4a",
   "metadata": {},
   "outputs": [],
   "source": [
    "data = pd.read_csv('../_data/Reviews.csv') # Loading the dataset\n",
    "X, y = data['Text'], data['Score'] # Separating the data into input and output\n",
    "\n",
    "# Function to tokenize each review in X_train\n",
    "# puts them in a list\n",
    "def tokenize_by_space(X_train):\n",
    "    token_list = [review.split() for review in X_train]\n",
    "    flattened_X_train = [word for review in token_list for word in review]\n",
    "    return flattened_X_train\n",
    "\n",
    "def tokenize_by_space_and_lowercase(X_train):\n",
    "    token_list = [review.lower().split() for review in X_train]\n",
    "    flattened_X_train = [word for review in token_list for word in review]\n",
    "    return flattened_X_train\n",
    "\n",
    "def tokenize_by_space_lowercase_and_punctuation(X_train):\n",
    "    tokens_with_punctuation = []\n",
    "    for token in X_train:\n",
    "        token_lower = token.lower()\n",
    "        tokens_with_punctuation.extend(re.findall(r\"[\\w']+|[^\\w\\s]\", token_lower))\n",
    "    return tokens_with_punctuation\n",
    "\n",
    "smaller_X = X[:100000] # Add [:100] to get only the first 100 rows of the dataset\n",
    "X_train, X_test = train_test_split(smaller_X, test_size=0.2, random_state=42) #split into X_train and X_test \n",
    "\n",
    "\n"
   ]
  },
  {
   "cell_type": "code",
   "execution_count": 3,
   "id": "d80b0fc6",
   "metadata": {},
   "outputs": [],
   "source": [
    "test_config_1 = tokenize_by_space(X_test)\n",
    "train_config_1 = tokenize_by_space(X_train)\n",
    "test_config_2 = tokenize_by_space_and_lowercase(X_test)\n",
    "train_config_2 = tokenize_by_space_and_lowercase(X_train)\n",
    "test_config_3 = tokenize_by_space_lowercase_and_punctuation(X_test)\n",
    "train_config_3 = tokenize_by_space_lowercase_and_punctuation(X_train)"
   ]
  },
  {
   "cell_type": "markdown",
   "id": "af1f7816",
   "metadata": {},
   "source": [
    "# N-grams\n",
    "### Model starts here"
   ]
  },
  {
   "cell_type": "code",
   "execution_count": 4,
   "id": "64043c72-b8b8-4bc3-b73b-00da866bfed6",
   "metadata": {},
   "outputs": [],
   "source": [
    "#Import all libraries\n",
    "from collections import defaultdict\n",
    "from collections import  defaultdict\n",
    "import math\n",
    "import random"
   ]
  },
  {
   "cell_type": "code",
   "execution_count": 5,
   "id": "6ff2389f-dd46-4861-9bf7-dbb5c197cdfa",
   "metadata": {},
   "outputs": [],
   "source": [
    "def Create_And_Count_ngrams(tokens, n):\n",
    "    # Creates n-grams and counts their occurrences\n",
    "    ngram_counts = defaultdict(int)\n",
    "    \n",
    "    for i in range(len(tokens) - n + 1):\n",
    "        ngram = tuple(tokens[i:i+n])\n",
    "        ngram_counts[ngram] += 1\n",
    "    \n",
    "    return ngram_counts\n",
    "    \n",
    "\n",
    "def add_laplace(ngram, k):\n",
    "    # Applies Laplace smoothing \n",
    "    for key in ngram:\n",
    "        ngram[key] += k\n",
    "\n",
    "def Create_ngram(train, test, n, k=0.00001):\n",
    "# Creates the needed n-gram\n",
    "    \n",
    "    token_set = set(train)  # To not have duplicate tokens\n",
    "    len_token_set = len(token_set)\n",
    "    \n",
    "    # Step 1: Count n-grams and (n-1)-grams \n",
    "    tmp_ng_with_count = Create_And_Count_ngrams(train, n)\n",
    "    prefix_count = Create_And_Count_ngrams(train, n - 1)\n",
    "    final_ng = defaultdict(float)\n",
    "\n",
    "    # Step 2: Apply Laplace smoothing\n",
    "    add_laplace(tmp_ng_with_count, k)\n",
    "    add_laplace(prefix_count, k)\n",
    "   \n",
    "    # Step 3: Calculate n-gram probabilities\n",
    "    for ng in tmp_ng_with_count:\n",
    "        final_ng[ng] = (tmp_ng_with_count[ng] + k) / (prefix_count[ng[:-1]] + k * len_token_set)\n",
    "\n",
    "    # Step 4: Fixing unseen data that exists in the test set\n",
    "    for i in range(len(test) - n + 1):\n",
    "        ng = tuple(test[i:i + n])\n",
    "        if ng not in tmp_ng_with_count:\n",
    "            final_ng[ng] = k / (prefix_count[ng[:-1]] + k * len_token_set)\n",
    "    return final_ng\n",
    "\n",
    "def greedy_sampling(context, ngram_probabilities, n, max_length=50):\n",
    "    # Take the most probable option only\n",
    "    sentence = []\n",
    "    sentence.extend(tuple(context[-(n):]))\n",
    "\n",
    "    # Check is context toot small\n",
    "    if len(context) < (n-1):\n",
    "        print(\"context too small\")\n",
    "        return sentence\n",
    "\n",
    "    context = tuple(context[-(n-1):])  \n",
    "    \n",
    "    for _ in range(max_length):\n",
    "        probs = {}\n",
    "        \n",
    "        for token in ngram_probabilities:\n",
    "            if token[:n-1] == context:\n",
    "                probs[token[-1]] = ngram_probabilities[token]\n",
    "\n",
    "        if not probs:\n",
    "            print(\"No token possible in context\")\n",
    "            return sentence\n",
    "\n",
    "        # For greedy algorithm\n",
    "        best_token = max(probs, key=probs.get)  \n",
    "\n",
    "        if best_token not in probs:\n",
    "            print(\"No best token possible\")\n",
    "            return sentence\n",
    "\n",
    "        sentence.append(best_token)\n",
    "        context = context[1:] + (best_token,) \n",
    "\n",
    "    return sentence\n",
    "\n",
    "import random\n",
    "\n",
    "def top_k(context, ngram_probabilities, n, max_length=50, k=1):\n",
    "    # Top k version. if k = 1, same result as greedy\n",
    "    sentence = []\n",
    "    sentence.extend(tuple(context[-(n):]))\n",
    "\n",
    "    # Check if context too small\n",
    "    if len(context) < (n-1):\n",
    "        print(\"context too small\")\n",
    "        return sentence\n",
    "\n",
    "    context = tuple(context[-(n-1):])  \n",
    "    \n",
    "    for _ in range(max_length):\n",
    "        probs = {}\n",
    "        \n",
    "        for token in ngram_probabilities:\n",
    "            if token[:n-1] == context:\n",
    "                probs[token[-1]] = ngram_probabilities[token]\n",
    "\n",
    "        if not probs:\n",
    "            print(\"No token possible in context\")\n",
    "            return sentence\n",
    "\n",
    "        # Selecting top k tokens probabilistically\n",
    "        top_k_tokens = sorted(probs, key=probs.get, reverse=True)[:k]\n",
    "\n",
    "        token_weights = [probs[token] for token in top_k_tokens]\n",
    "        best_token = random.choices(top_k_tokens, weights=token_weights, k=1)[0]\n",
    "\n",
    "\n",
    "        if best_token not in probs:\n",
    "            print(\"No best token possible\")\n",
    "            return sentence\n",
    "\n",
    "        sentence.append(best_token)\n",
    "        context = context[1:] + (best_token,) \n",
    "\n",
    "    return sentence\n",
    "\n",
    "def calculate_perplexity(test, ngram, n):\n",
    "    # Calculates perplexity\n",
    "    log_probability_sum = 0\n",
    "    ngram_count = 0\n",
    "    \n",
    "    for i in range(len(test)-n+1):\n",
    "        log_probability_sum += math.log2(ngram[tuple(test[i:i+n])])\n",
    "        ngram_count += 1\n",
    "    \n",
    "    average_log_probability = -log_probability_sum / ngram_count\n",
    "    perplexity = math.pow(2, average_log_probability)\n",
    "    \n",
    "    return perplexity\n",
    "\n",
    "def calculate_coverage(test_data, ngram_probabilities):\n",
    "    # Count the number of n-grams in the test data\n",
    "    total_ngrams = len(test_data) - (n - 1) * len(test_data)\n",
    "    \n",
    "    # Check if there are n-grams in the test data\n",
    "    if total_ngrams == 0:\n",
    "        return 0\n",
    "    \n",
    "    # Count the number of n-grams covered by the n-gram model\n",
    "    covered_ngrams = sum(1 for ng in test_data if ng in ngram_probabilities)\n",
    "    \n",
    "    # Calculate coverage percentage\n",
    "    coverage_percentage = (covered_ngrams / total_ngrams) * 100\n",
    "    \n",
    "    return coverage_percentage\n",
    "\n",
    "def create_and_test(train, test, n, k):\n",
    "    # Create n-gram model\n",
    "    ngram = Create_ngram(train, test, n, k)\n",
    "    # Calculate train and test perplexity\n",
    "    train_perplexity = calculate_perplexity(train, ngram, n)\n",
    "    test_perplexity = calculate_perplexity(test, ngram, n)\n",
    "    # print\n",
    "    print(f\"Train perplexity: {train_perplexity} with k={k} and n={n}\") \n",
    "    print(f\"Test perplexity: {test_perplexity} with k={k} and n={n}\")\n",
    "    return ngram\n"
   ]
  },
  {
   "cell_type": "code",
   "execution_count": null,
   "id": "eae9801d",
   "metadata": {},
   "outputs": [
    {
     "name": "stdout",
     "output_type": "stream",
     "text": [
      "Tokenize by space\n",
      "Train perplexity: 4016.246389511696 with k=1 and n=2\n",
      "Test perplexity: 5010.116266825135 with k=1 and n=2\n",
      "Train perplexity: 108.89481486689421 with k=0.0001 and n=2\n",
      "Test perplexity: 512.7857387543766 with k=0.0001 and n=2\n",
      "Train perplexity: 25739.50823889081 with k=1 and n=3\n",
      "Test perplexity: 44527.349299523026 with k=1 and n=3\n",
      "Train perplexity: 29.134200733167308 with k=0.0001 and n=3\n",
      "Test perplexity: 1811.7597535961013 with k=0.0001 and n=3\n"
     ]
    },
    {
     "ename": "",
     "evalue": "",
     "output_type": "error",
     "traceback": [
      "\u001b[1;31mThe Kernel crashed while executing code in the current cell or a previous cell. \n",
      "\u001b[1;31mPlease review the code in the cell(s) to identify a possible cause of the failure. \n",
      "\u001b[1;31mClick <a href='https://aka.ms/vscodeJupyterKernelCrash'>here</a> for more info. \n",
      "\u001b[1;31mView Jupyter <a href='command:jupyter.viewOutput'>log</a> for further details."
     ]
    }
   ],
   "source": [
    "print(\"Tokenize by space\")\n",
    "create_and_test(train_config_1, test_config_1, 2, 1)\n",
    "create_and_test(train_config_1, test_config_1, 2, 0.0001)\n",
    "create_and_test(train_config_1, test_config_1, 3, 1)\n",
    "create_and_test(train_config_1, test_config_1, 3, 0.0001)\n",
    "create_and_test(train_config_1, test_config_1, 5, 1)\n",
    "conf1_6 = create_and_test(train_config_1, test_config_1, 5, 0.0001)"
   ]
  },
  {
   "cell_type": "code",
   "execution_count": 6,
   "id": "75c009d8",
   "metadata": {},
   "outputs": [
    {
     "name": "stdout",
     "output_type": "stream",
     "text": [
      "Train perplexity: 17.45639959537635 with k=0.0001 and n=5\n",
      "Test perplexity: 23722.516059924772 with k=0.0001 and n=5\n"
     ]
    }
   ],
   "source": []
  },
  {
   "cell_type": "code",
   "execution_count": 6,
   "id": "06fc20d2",
   "metadata": {},
   "outputs": [
    {
     "name": "stdout",
     "output_type": "stream",
     "text": [
      "Tokenize by space\n",
      "Train perplexity: 4016.246389511696 with k=1 and n=2\n",
      "Test perplexity: 5010.116266825135 with k=1 and n=2\n",
      "Train perplexity: 108.89481486689421 with k=0.0001 and n=2\n",
      "Test perplexity: 512.7857387543766 with k=0.0001 and n=2\n",
      "Train perplexity: 25739.50823889081 with k=1 and n=3\n",
      "Test perplexity: 44527.349299523026 with k=1 and n=3\n",
      "Train perplexity: 29.134200733167308 with k=0.0001 and n=3\n",
      "Test perplexity: 1811.7597535961013 with k=0.0001 and n=3\n",
      "Train perplexity: 57298.18756943105 with k=1 and n=5\n",
      "Test perplexity: 140665.09498627184 with k=1 and n=5\n"
     ]
    },
    {
     "ename": "",
     "evalue": "",
     "output_type": "error",
     "traceback": [
      "\u001b[1;31mThe Kernel crashed while executing code in the current cell or a previous cell. \n",
      "\u001b[1;31mPlease review the code in the cell(s) to identify a possible cause of the failure. \n",
      "\u001b[1;31mClick <a href='https://aka.ms/vscodeJupyterKernelCrash'>here</a> for more info. \n",
      "\u001b[1;31mView Jupyter <a href='command:jupyter.viewOutput'>log</a> for further details."
     ]
    }
   ],
   "source": [
    "print(\"Tokenize by space\")\n",
    "conf1_1 = create_and_test(train_config_1, test_config_1, 2, 1)\n",
    "conf1_2 = create_and_test(train_config_1, test_config_1, 2, 0.0001)\n",
    "conf1_3 = create_and_test(train_config_1, test_config_1, 3, 1)\n",
    "conf1_4 = create_and_test(train_config_1, test_config_1, 3, 0.0001)\n",
    "conf1_5 = create_and_test(train_config_1, test_config_1, 5, 1)\n",
    "conf1_6 = create_and_test(train_config_1, test_config_1, 5, 0.0001)\n"
   ]
  },
  {
   "cell_type": "code",
   "execution_count": null,
   "id": "cfb4e98c",
   "metadata": {},
   "outputs": [],
   "source": [
    "print(\"Tokenize by space and lowercase all capital letters\")\n",
    "conf2_1 = create_and_test(train_config_2, test_config_2, 2, 1)\n",
    "conf2_2 = create_and_test(train_config_2, test_config_2, 2, 0.0001)\n",
    "conf2_3 = create_and_test(train_config_2, test_config_2, 3, 1)\n",
    "conf2_4 = create_and_test(train_config_2, test_config_2, 3, 0.0001)\n",
    "conf2_5 = create_and_test(train_config_2, test_config_2, 5, 1)\n",
    "conf2_6 = create_and_test(train_config_2, test_config_2, 5, 0.0001)"
   ]
  },
  {
   "cell_type": "code",
   "execution_count": null,
   "id": "e3d4b5f7",
   "metadata": {},
   "outputs": [],
   "source": [
    "print(\"Tokenize by space and punctuation and lowercase all capital letter\")\n",
    "conf3_1 = create_and_test(train_config_3, test_config_3, 2, 1)\n",
    "conf3_2 = create_and_test(train_config_3, test_config_3, 2, 0.0001)\n",
    "conf3_3 = create_and_test(train_config_3, test_config_3, 3, 1)\n",
    "conf3_4 = create_and_test(train_config_3, test_config_3, 3, 0.0001)\n",
    "conf3_5 = create_and_test(train_config_3, test_config_3, 5, 1)\n",
    "conf3_6 = create_and_test(train_config_3, test_config_3, 5, 0.0001)"
   ]
  },
  {
   "cell_type": "code",
   "execution_count": 52,
   "id": "7ade6588-6397-463c-bbec-c32c5fc28b89",
   "metadata": {},
   "outputs": [
    {
     "name": "stdout",
     "output_type": "stream",
     "text": [
      "['I', 'am', 'very', 'satisfied', 'with', 'the', 'product', 'and', 'the', 'lightning', \"delivery...I've\", 'shopped', 'thru', 'Amazon', 'for', 'years', 'and', 'this', 'is', 'the', 'only', 'one', 'I', 'use.', 'Not', 'as', 'tasty', 'as', 'the', 'other', 'reviewers', 'have', 'said,', 'is', 'great', 'to', 'mix', 'into', 'other', 'foods.', \"I've\", 'tried', 'to', 'reconstitute', 'it', 'in', 'order', 'to', 'really', 'enjoy', 'the', 'depth.', 'I', 'like', 'the']\n"
     ]
    }
   ],
   "source": [
    "# More explanation on the effect of different tokenizer and other parameters have on the n-gram model text generation can be found in the README\n",
    "\n",
    "context = ['I','am','very','satisfied','with']\n",
    "print(top_k(context, conf1_6, 5, 50, 5))\n"
   ]
  },
  {
   "cell_type": "code",
   "execution_count": 54,
   "id": "4645059a",
   "metadata": {},
   "outputs": [
    {
     "name": "stdout",
     "output_type": "stream",
     "text": [
      "['I', 'am', 'very', 'satisfied', 'with', 'the', 'taste', 'and', 'texture', 'of', 'this', 'pasta', 'is', 'beyond', 'compare.', 'I', 'have', 'not', 'bought', 'store', 'pasta', 'since', 'and', 'will', 'never', 'buy', 'from', 'a', 'grocery', 'store', 'again.<br', '/>THE', 'BEST', 'PASTA', 'EVER!', \"Lucy's\", 'is', 'one', 'of', 'the', 'best', 'tasting', 'bars', \"I've\", 'eaten...', 'ever.', 'I', 'love', 'the', 'tangy', 'taste', 'of', 'the', 'cherry', 'and']\n"
     ]
    }
   ],
   "source": [
    "context = ['I','am','very','satisfied','with']\n",
    "print(greedy_sampling(context, conf1_6, 5))"
   ]
  },
  {
   "cell_type": "code",
   "execution_count": null,
   "id": "1024231a",
   "metadata": {},
   "outputs": [],
   "source": []
  },
  {
   "cell_type": "code",
   "execution_count": null,
   "id": "96ff08ef",
   "metadata": {},
   "outputs": [],
   "source": []
  }
 ],
 "metadata": {
  "kernelspec": {
   "display_name": "Python 3 (ipykernel)",
   "language": "python",
   "name": "python3"
  },
  "language_info": {
   "codemirror_mode": {
    "name": "ipython",
    "version": 3
   },
   "file_extension": ".py",
   "mimetype": "text/x-python",
   "name": "python",
   "nbconvert_exporter": "python",
   "pygments_lexer": "ipython3",
   "version": "3.10.12"
  }
 },
 "nbformat": 4,
 "nbformat_minor": 5
}

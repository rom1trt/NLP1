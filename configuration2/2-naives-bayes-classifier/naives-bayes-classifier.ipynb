{
 "cells": [
  {
   "cell_type": "code",
   "execution_count": 1,
   "metadata": {},
   "outputs": [
    {
     "name": "stdout",
     "output_type": "stream",
     "text": [
      "Requirement already satisfied: pandas in /opt/mamba/lib/python3.12/site-packages (2.2.2)\n",
      "Requirement already satisfied: numpy>=1.26.0 in /opt/mamba/lib/python3.12/site-packages (from pandas) (1.26.4)\n",
      "Requirement already satisfied: python-dateutil>=2.8.2 in /opt/mamba/lib/python3.12/site-packages (from pandas) (2.9.0)\n",
      "Requirement already satisfied: pytz>=2020.1 in /opt/mamba/lib/python3.12/site-packages (from pandas) (2024.1)\n",
      "Requirement already satisfied: tzdata>=2022.7 in /opt/mamba/lib/python3.12/site-packages (from pandas) (2024.1)\n",
      "Requirement already satisfied: six>=1.5 in /opt/mamba/lib/python3.12/site-packages (from python-dateutil>=2.8.2->pandas) (1.16.0)\n",
      "Requirement already satisfied: nltk in /opt/mamba/lib/python3.12/site-packages (3.8.1)\n",
      "Requirement already satisfied: click in /opt/mamba/lib/python3.12/site-packages (from nltk) (8.1.7)\n",
      "Requirement already satisfied: joblib in /opt/mamba/lib/python3.12/site-packages (from nltk) (1.4.2)\n",
      "Requirement already satisfied: regex>=2021.8.3 in /opt/mamba/lib/python3.12/site-packages (from nltk) (2024.4.28)\n",
      "Requirement already satisfied: tqdm in /opt/mamba/lib/python3.12/site-packages (from nltk) (4.66.2)\n",
      "Requirement already satisfied: scikit-learn in /opt/mamba/lib/python3.12/site-packages (1.4.2)\n",
      "Requirement already satisfied: numpy>=1.19.5 in /opt/mamba/lib/python3.12/site-packages (from scikit-learn) (1.26.4)\n",
      "Requirement already satisfied: scipy>=1.6.0 in /opt/mamba/lib/python3.12/site-packages (from scikit-learn) (1.13.0)\n",
      "Requirement already satisfied: joblib>=1.2.0 in /opt/mamba/lib/python3.12/site-packages (from scikit-learn) (1.4.2)\n",
      "Requirement already satisfied: threadpoolctl>=2.0.0 in /opt/mamba/lib/python3.12/site-packages (from scikit-learn) (3.5.0)\n",
      "Requirement already satisfied: tiktoken in /opt/mamba/lib/python3.12/site-packages (0.6.0)\n",
      "Requirement already satisfied: regex>=2022.1.18 in /opt/mamba/lib/python3.12/site-packages (from tiktoken) (2024.4.28)\n",
      "Requirement already satisfied: requests>=2.26.0 in /opt/mamba/lib/python3.12/site-packages (from tiktoken) (2.31.0)\n",
      "Requirement already satisfied: charset-normalizer<4,>=2 in /opt/mamba/lib/python3.12/site-packages (from requests>=2.26.0->tiktoken) (3.3.2)\n",
      "Requirement already satisfied: idna<4,>=2.5 in /opt/mamba/lib/python3.12/site-packages (from requests>=2.26.0->tiktoken) (3.6)\n",
      "Requirement already satisfied: urllib3<3,>=1.21.1 in /opt/mamba/lib/python3.12/site-packages (from requests>=2.26.0->tiktoken) (1.26.18)\n",
      "Requirement already satisfied: certifi>=2017.4.17 in /opt/mamba/lib/python3.12/site-packages (from requests>=2.26.0->tiktoken) (2024.2.2)\n"
     ]
    },
    {
     "name": "stderr",
     "output_type": "stream",
     "text": [
      "[nltk_data] Downloading package stopwords to /home/onyxia/nltk_data...\n",
      "[nltk_data]   Package stopwords is already up-to-date!\n"
     ]
    }
   ],
   "source": [
    "!pip install pandas\n",
    "!pip install nltk\n",
    "!pip install scikit-learn\n",
    "!pip install tiktoken\n",
    "\n",
    "import pandas as pd\n",
    "import tiktoken\n",
    "import nltk\n",
    "from nltk.corpus import stopwords\n",
    "\n",
    "nltk.download('stopwords')\n",
    "\n",
    "def tokenizer(X):\n",
    "    enc = tiktoken.encoding_for_model(\"gpt-4\")\n",
    "    stop_words = set(stopwords.words('english'))\n",
    "    num_tokens = 0\n",
    "    num_sentences = 0\n",
    "    tokenized_documents = []\n",
    "    for text in X:\n",
    "        tokenized_document = enc.encode(text)\n",
    "\n",
    "        filtered_tokens = [token for token in tokenized_document if token not in stop_words]\n",
    "\n",
    "        num_tokens += len(filtered_tokens)\n",
    "        num_sentences += text.count('.') + text.count('!') + text.count('?')\n",
    "        \n",
    "        tokenized_documents.append(filtered_tokens)\n",
    "\n",
    "    print(\"Number of tokens: \", num_tokens)\n",
    "    print(\"Number of sentences: \", num_sentences)\n",
    "    \n",
    "    return tokenized_documents\n",
    "\n",
    "import sklearn.feature_extraction.text as sk_text\n",
    "\n",
    "def vectorizer(tokenized_documents):\n",
    "    # Conversion des bytes en chaînes de caractères si nécessaire\n",
    "    tokenized_documents_str = []\n",
    "    for document in tokenized_documents:\n",
    "        if isinstance(document, list):\n",
    "            # Convertir les bytes en chaînes de caractères\n",
    "            tokenized_document_str = [token.decode('utf-8') if isinstance(token, bytes) else str(token) for token in document]\n",
    "            tokenized_documents_str.append(tokenized_document_str)\n",
    "        else:\n",
    "            # Si le document n'est pas une liste, le convertir en liste de chaîne de caractères\n",
    "            tokenized_documents_str.append([str(document)])\n",
    "\n",
    "    # Initialiser le vectoriseur\n",
    "    vectorizer = sk_text.CountVectorizer(lowercase=False, preprocessor=None, tokenizer=lambda x: x)\n",
    "    \n",
    "    # Adapter et transformer les données\n",
    "    X = vectorizer.fit_transform(tokenized_documents_str)\n",
    "    \n",
    "    return X, vectorizer"
   ]
  },
  {
   "cell_type": "markdown",
   "metadata": {},
   "source": [
    "# NLTK TOKENIZER AND TF-IDF VECTORIZER"
   ]
  },
  {
   "cell_type": "code",
   "execution_count": 2,
   "metadata": {},
   "outputs": [
    {
     "name": "stderr",
     "output_type": "stream",
     "text": [
      "[nltk_data] Downloading package stopwords to /home/onyxia/nltk_data...\n",
      "[nltk_data]   Package stopwords is already up-to-date!\n"
     ]
    }
   ],
   "source": [
    "import sys\n",
    "sys.path.append('../')\n",
    "from tokenizer import tokenizer\n",
    "from vectorizer import vectorizer\n",
    "\n",
    "import sklearn.model_selection\n",
    "import numpy as np\n",
    "import pandas as pd\n",
    "import sklearn as sk"
   ]
  },
  {
   "cell_type": "code",
   "execution_count": 3,
   "metadata": {},
   "outputs": [],
   "source": [
    "data = pd.read_csv('../../_data/Reviews.csv') # Loading the dataset\n",
    "X, y = data['Text'], data['Score']"
   ]
  },
  {
   "cell_type": "code",
   "execution_count": 4,
   "metadata": {},
   "outputs": [],
   "source": [
    "# # FOR TESTING : only select first 20000 samples\n",
    "# X, y = X[:20000], y[:20000]"
   ]
  },
  {
   "cell_type": "code",
   "execution_count": 5,
   "metadata": {},
   "outputs": [
    {
     "name": "stdout",
     "output_type": "stream",
     "text": [
      "Number of tokens:  58325048\n",
      "Number of sentences:  3661772\n"
     ]
    }
   ],
   "source": [
    "tokenized_documents = tokenizer(X)"
   ]
  },
  {
   "cell_type": "code",
   "execution_count": 6,
   "metadata": {},
   "outputs": [
    {
     "name": "stderr",
     "output_type": "stream",
     "text": [
      "/opt/mamba/lib/python3.12/site-packages/sklearn/feature_extraction/text.py:525: UserWarning: The parameter 'token_pattern' will not be used since 'tokenizer' is not None'\n",
      "  warnings.warn(\n"
     ]
    }
   ],
   "source": [
    "X, vect = vectorizer(tokenized_documents)"
   ]
  },
  {
   "cell_type": "code",
   "execution_count": 7,
   "metadata": {},
   "outputs": [
    {
     "name": "stdout",
     "output_type": "stream",
     "text": [
      "Top 10 most frequent words in the dataset\n",
      "['0' '1' '10' '100004' '100005' '10001' '100011' '100012' '100014'\n",
      " '100016']\n",
      "Top 10 least frequent words in the dataset\n",
      "['99975' '9998' '99981' '99984' '99985' '99986' '9999' '99990' '99992'\n",
      " '99994']\n"
     ]
    }
   ],
   "source": [
    "# most frequent words\n",
    "print(\"Top 10 most frequent words in the dataset\")\n",
    "print(vect.get_feature_names_out()[:10])\n",
    "\n",
    "# least frequent words\n",
    "print(\"Top 10 least frequent words in the dataset\")\n",
    "print(vect.get_feature_names_out()[-10:])"
   ]
  },
  {
   "cell_type": "code",
   "execution_count": 8,
   "metadata": {},
   "outputs": [],
   "source": [
    "assert X.shape[0] == y.shape[0], \"Le nombre d'échantillons dans X et y est différent.\"\n",
    "\n",
    "# Divisez les données en ensembles d'entraînement et de test\n",
    "X_train, X_test, y_train, y_test = sk.model_selection.train_test_split(X, y, test_size=0.2, random_state=42)\n"
   ]
  },
  {
   "cell_type": "code",
   "execution_count": 9,
   "metadata": {},
   "outputs": [],
   "source": [
    "X_train, X_test, y_train, y_test = sk.model_selection.train_test_split(X, y, test_size=0.2, random_state=42)"
   ]
  },
  {
   "cell_type": "code",
   "execution_count": 10,
   "metadata": {},
   "outputs": [
    {
     "name": "stdout",
     "output_type": "stream",
     "text": [
      "(454763, 53351) (113691, 53351) (454763,) (113691,)\n",
      "  (0, 34404)\t1\n",
      "  (0, 2531)\t1\n",
      "  (0, 23716)\t1\n",
      "  (0, 19965)\t2\n",
      "  (0, 22878)\t1\n",
      "  (0, 23523)\t1\n",
      "  (0, 899)\t2\n",
      "  (0, 5502)\t1\n",
      "  (0, 1672)\t1\n",
      "  (0, 30112)\t1\n",
      "  (0, 0)\t1\n",
      "  (0, 51388)\t1\n",
      "  (0, 39869)\t1\n",
      "  (0, 20900)\t1\n",
      "  (0, 932)\t2\n",
      "  (0, 52850)\t1\n",
      "  (0, 36993)\t1\n",
      "  (0, 14313)\t1\n",
      "  (0, 6293)\t1\n",
      "  (0, 24280)\t1\n",
      "  (0, 2731)\t1\n",
      "  (0, 656)\t1\n",
      "  (0, 1347)\t1\n"
     ]
    }
   ],
   "source": [
    "print(X_train.shape, X_test.shape, y_train.shape, y_test.shape)\n",
    "\n",
    "print(X_train[0])"
   ]
  },
  {
   "cell_type": "markdown",
   "metadata": {},
   "source": [
    "# Naive Bayes Classifier\n",
    "### Model starts here"
   ]
  },
  {
   "cell_type": "code",
   "execution_count": 11,
   "metadata": {},
   "outputs": [
    {
     "name": "stdout",
     "output_type": "stream",
     "text": [
      "[[ 6373  1573   728   386  1266]\n",
      " [ 1211  2081  1023   586   954]\n",
      " [ 1036   967  2989  1710  1783]\n",
      " [  834   563  1499  6223  7004]\n",
      " [ 2762   772  1549  7658 60161]]\n",
      "              precision    recall  f1-score   support\n",
      "\n",
      "           1       0.52      0.62      0.57     10326\n",
      "           2       0.35      0.36      0.35      5855\n",
      "           3       0.38      0.35      0.37      8485\n",
      "           4       0.38      0.39      0.38     16123\n",
      "           5       0.85      0.83      0.84     72902\n",
      "\n",
      "    accuracy                           0.68    113691\n",
      "   macro avg       0.50      0.51      0.50    113691\n",
      "weighted avg       0.69      0.68      0.69    113691\n",
      "\n"
     ]
    }
   ],
   "source": [
    "from sklearn.naive_bayes import MultinomialNB\n",
    "\n",
    "# Multinomial Naive Bayes\n",
    "nb = MultinomialNB()\n",
    "naive_bayes = nb.fit(X_train, y_train)\n",
    "predicted = naive_bayes.predict(X_test)\n",
    "\n",
    "# Metrics\n",
    "from sklearn import metrics\n",
    "print(metrics.confusion_matrix(y_test, predicted))\n",
    "print(metrics.classification_report(y_test, predicted))"
   ]
  },
  {
   "cell_type": "code",
   "execution_count": 12,
   "metadata": {},
   "outputs": [
    {
     "name": "stdout",
     "output_type": "stream",
     "text": [
      "Number of tokens:  4\n",
      "Number of sentences:  0\n",
      "[5]\n"
     ]
    }
   ],
   "source": [
    "example = '''\n",
    "awful\n",
    "'''\n",
    "\n",
    "# tokenize and vectorize it, then try to predict\n",
    "test = tokenizer([example])\n",
    "test_tfidf = vect.transform(test)\n",
    "print(naive_bayes.predict(test_tfidf))"
   ]
  }
 ],
 "metadata": {
  "kernelspec": {
   "display_name": "Python 3 (ipykernel)",
   "language": "python",
   "name": "python3"
  },
  "language_info": {
   "codemirror_mode": {
    "name": "ipython",
    "version": 3
   },
   "file_extension": ".py",
   "mimetype": "text/x-python",
   "name": "python",
   "nbconvert_exporter": "python",
   "pygments_lexer": "ipython3",
   "version": "3.12.2"
  }
 },
 "nbformat": 4,
 "nbformat_minor": 4
}

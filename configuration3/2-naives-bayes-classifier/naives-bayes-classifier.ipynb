{
 "cells": [
  {
   "cell_type": "markdown",
   "metadata": {},
   "source": [
    "# NLTK TOKENIZER AND TF-IDF VECTORIZER"
   ]
  },
  {
   "cell_type": "code",
   "execution_count": 1,
   "metadata": {},
   "outputs": [
    {
     "name": "stderr",
     "output_type": "stream",
     "text": [
      "/home/flo/.local/lib/python3.10/site-packages/torch/cuda/__init__.py:628: UserWarning: Can't initialize NVML\n",
      "  warnings.warn(\"Can't initialize NVML\")\n"
     ]
    }
   ],
   "source": [
    "import sys\n",
    "sys.path.append('../')\n",
    "from tokenizer import tokenizer\n",
    "from vectorizer import vectorizer\n",
    "\n",
    "import numpy as np\n",
    "import pandas as pd\n",
    "import sklearn as sk\n",
    "\n",
    "import sklearn.feature_extraction\n",
    "import sklearn.model_selection"
   ]
  },
  {
   "cell_type": "code",
   "execution_count": 2,
   "metadata": {},
   "outputs": [],
   "source": [
    "data = pd.read_csv('../../_data/Reviews.csv') # Loading the dataset\n",
    "X, y = data['Text'], data['Score']"
   ]
  },
  {
   "cell_type": "code",
   "execution_count": 3,
   "metadata": {},
   "outputs": [],
   "source": [
    "# FOR TESTING : only select first 20000 samples\n",
    "X, y = X[:20000], y[:20000]"
   ]
  },
  {
   "cell_type": "code",
   "execution_count": 4,
   "metadata": {},
   "outputs": [],
   "source": [
    "tokenized_documents = tokenizer(X)"
   ]
  },
  {
   "cell_type": "code",
   "execution_count": 5,
   "metadata": {},
   "outputs": [],
   "source": [
    "X, vect = vectorizer(tokenized_documents)"
   ]
  },
  {
   "cell_type": "code",
   "execution_count": 6,
   "metadata": {},
   "outputs": [
    {
     "name": "stdout",
     "output_type": "stream",
     "text": [
      "Top 10 most frequent words in the dataset\n"
     ]
    },
    {
     "ename": "AttributeError",
     "evalue": "'NoneType' object has no attribute 'get_feature_names_out'",
     "output_type": "error",
     "traceback": [
      "\u001b[0;31m---------------------------------------------------------------------------\u001b[0m",
      "\u001b[0;31mAttributeError\u001b[0m                            Traceback (most recent call last)",
      "Cell \u001b[0;32mIn[6], line 3\u001b[0m\n\u001b[1;32m      1\u001b[0m \u001b[38;5;66;03m# most frequent words\u001b[39;00m\n\u001b[1;32m      2\u001b[0m \u001b[38;5;28mprint\u001b[39m(\u001b[38;5;124m\"\u001b[39m\u001b[38;5;124mTop 10 most frequent words in the dataset\u001b[39m\u001b[38;5;124m\"\u001b[39m)\n\u001b[0;32m----> 3\u001b[0m \u001b[38;5;28mprint\u001b[39m(\u001b[43mvect\u001b[49m\u001b[38;5;241;43m.\u001b[39;49m\u001b[43mget_feature_names_out\u001b[49m()[:\u001b[38;5;241m10\u001b[39m])\n\u001b[1;32m      5\u001b[0m \u001b[38;5;66;03m# least frequent words\u001b[39;00m\n\u001b[1;32m      6\u001b[0m \u001b[38;5;28mprint\u001b[39m(\u001b[38;5;124m\"\u001b[39m\u001b[38;5;124mTop 10 least frequent words in the dataset\u001b[39m\u001b[38;5;124m\"\u001b[39m)\n",
      "\u001b[0;31mAttributeError\u001b[0m: 'NoneType' object has no attribute 'get_feature_names_out'"
     ]
    }
   ],
   "source": [
    "# most frequent words\n",
    "# print(\"Top 10 most frequent words in the dataset\")\n",
    "# print(vect.get_feature_names_out()[:10])\n",
    "\n",
    "# # least frequent words\n",
    "# print(\"Top 10 least frequent words in the dataset\")\n",
    "# print(vect.get_feature_names_out()[-10:])"
   ]
  },
  {
   "cell_type": "code",
   "execution_count": 16,
   "metadata": {},
   "outputs": [],
   "source": [
    "X_train, X_test, y_train, y_test = sk.model_selection.train_test_split(X, y, test_size=0.2, random_state=42)"
   ]
  },
  {
   "cell_type": "code",
   "execution_count": 13,
   "metadata": {},
   "outputs": [
    {
     "name": "stdout",
     "output_type": "stream",
     "text": [
      "(16000, 300) (4000, 300) (16000,) (4000,)\n",
      "[0.34593101 0.64705329 0.39303476 0.61258213 0.63854143 0.41181885\n",
      " 0.72428919 0.72546319 0.72637821 0.5874699  0.58083521 0.67067198\n",
      " 0.5842678  0.56803618 0.34056154 0.34208953 0.54222612 0.34919484\n",
      " 0.63348614 0.41245863 0.52634968 0.55066479 0.35888535 0.54158758\n",
      " 0.82999214 0.483154   0.43712909 0.18760427 0.44680249 0.40270519\n",
      " 0.3022289  0.53741441 0.58051613 0.52602324 0.45939893 0.45133262\n",
      " 0.45962772 0.3277334  0.44471224 0.622801   0.68501793 0.62947506\n",
      " 0.44775486 0.54039307 0.63825804 0.58972613 0.6281952  0.44269936\n",
      " 0.5799176  0.48824603 0.64968851 0.40351276 0.49453391 0.36597578\n",
      " 0.65477114 0.222619   0.56195982 0.2405871  0.36054256 0.39472278\n",
      " 0.53322958 0.4737347  0.33488118 0.40595684 0.41549118 0.65070493\n",
      " 0.33404763 0.64397261 0.33827377 0.30826735 0.55167087 0.571222\n",
      " 0.54039747 0.37948157 0.61124222 0.32121594 0.43261401 0.64813427\n",
      " 0.56465281 0.52200733 0.69349334 0.37754534 0.43621541 0.7903021\n",
      " 0.51228555 0.40177166 0.40193022 0.47789669 0.33549692 0.39268302\n",
      " 0.71208819 0.74390123 0.27365568 0.3370628  0.3973015  0.51331635\n",
      " 0.62963838 0.54695848 0.24946522 0.5458891  0.3753576  0.14249231\n",
      " 0.18390393 0.69012422 0.44351516 0.42491298 0.4949313  0.18790239\n",
      " 0.5515058  0.58549862 0.23135549 0.66568972 0.27062932 0.4208604\n",
      " 0.50101042 0.3062618  0.712592   0.44466616 0.28988996 0.57664657\n",
      " 0.53656053 0.4319139  0.54405012 0.61772847 0.20126959 0.40306557\n",
      " 0.64819419 0.32647786 0.42909838 0.64160521 0.4393944  0.39984273\n",
      " 0.40628493 0.66100729 0.5608616  0.58268384 0.5891946  0.53805945\n",
      " 0.57276084 0.65566208 0.35555259 0.54508019 0.41708774 0.4258224\n",
      " 0.60640244 0.47840867 0.47407973 0.23573863 0.55891976 0.65078202\n",
      " 0.33058988 0.66786609 0.42018135 0.67051019 0.60085127 0.44857669\n",
      " 0.40329161 0.21042536 0.47013267 0.70086255 0.562025   0.32110441\n",
      " 0.56022794 0.65273111 0.5672854  0.49212934 0.30888384 0.66948653\n",
      " 0.71459201 0.33002752 0.36230481 0.46895135 0.7503474  0.58541562\n",
      " 0.65185952 0.47142925 0.52863571 0.53240029 0.52547742 0.56983857\n",
      " 0.5970534  0.33611176 0.33504846 0.55414814 0.59565176 0.37410508\n",
      " 0.27841884 0.65337672 0.57626056 0.27069527 0.29474953 0.66209381\n",
      " 0.71816081 0.46468315 0.39324221 0.3333047  0.50155032 0.44318842\n",
      " 0.35981265 0.3511211  0.63236455 0.63287111 0.57990215 0.4444658\n",
      " 0.60629678 0.47468743 0.40683808 0.36933131 0.56078698 0.54738562\n",
      " 0.43846625 0.46501199 0.44280322 0.57436773 0.4970214  0.52916383\n",
      " 0.44284884 0.64478087 0.31334436 0.53985883 0.52268843 0.42136784\n",
      " 0.51822826 0.3292192  0.65068809 0.41294019 0.50497979 0.72143405\n",
      " 0.46100446 0.58317355 0.48377049 0.37517791 0.42100643 0.52269038\n",
      " 0.72465162 0.34010838 0.50391803 0.59558713 0.4389527  0.57404957\n",
      " 0.48607405 0.73167412 0.40596575 0.35257982 0.61880449 0.68646431\n",
      " 0.51327903 0.30065941 0.68657995 0.58309744 0.45992319 0.40300393\n",
      " 0.38230896 0.41078886 0.35742207 0.43296058 0.36710637 0.28874496\n",
      " 0.52768605 0.67972713 0.20145275 0.46827248 0.28011441 0.6697855\n",
      " 0.53983386 0.45894123 0.62839227 0.52627959 0.39280893 0.7296803\n",
      " 0.69323968 0.31152826 0.53337192 0.50427322 0.44035513 0.51378294\n",
      " 0.76326527 0.40333681 0.78140225 0.35031533 0.64088021 0.27412428\n",
      " 0.65606355 0.34702059 0.29273979 0.69828388 0.38201362 0.62037084\n",
      " 0.31118054 0.65854729 0.57053468 0.49524782 0.47183599 0.44988278\n",
      " 0.83576899 0.72315337 0.54276579 0.38842582 0.3738572  0.44098805]\n"
     ]
    }
   ],
   "source": [
    "print(X_train.shape, X_test.shape, y_train.shape, y_test.shape)\n",
    "\n",
    "print(X_train[0])"
   ]
  },
  {
   "cell_type": "markdown",
   "metadata": {},
   "source": [
    "# Naive Bayes Classifier\n",
    "### Model starts here"
   ]
  },
  {
   "cell_type": "code",
   "execution_count": 14,
   "metadata": {},
   "outputs": [
    {
     "name": "stdout",
     "output_type": "stream",
     "text": [
      "[[   0    0    0    0  353]\n",
      " [   0    0    0    0  246]\n",
      " [   0    0    0    0  342]\n",
      " [   0    0    0    0  567]\n",
      " [   0    0    0    0 2492]]\n",
      "              precision    recall  f1-score   support\n",
      "\n",
      "           1       0.00      0.00      0.00       353\n",
      "           2       0.00      0.00      0.00       246\n",
      "           3       0.00      0.00      0.00       342\n",
      "           4       0.00      0.00      0.00       567\n",
      "           5       0.62      1.00      0.77      2492\n",
      "\n",
      "    accuracy                           0.62      4000\n",
      "   macro avg       0.12      0.20      0.15      4000\n",
      "weighted avg       0.39      0.62      0.48      4000\n",
      "\n"
     ]
    },
    {
     "name": "stderr",
     "output_type": "stream",
     "text": [
      "/home/flo/.local/lib/python3.10/site-packages/sklearn/metrics/_classification.py:1509: UndefinedMetricWarning: Precision is ill-defined and being set to 0.0 in labels with no predicted samples. Use `zero_division` parameter to control this behavior.\n",
      "  _warn_prf(average, modifier, f\"{metric.capitalize()} is\", len(result))\n",
      "/home/flo/.local/lib/python3.10/site-packages/sklearn/metrics/_classification.py:1509: UndefinedMetricWarning: Precision is ill-defined and being set to 0.0 in labels with no predicted samples. Use `zero_division` parameter to control this behavior.\n",
      "  _warn_prf(average, modifier, f\"{metric.capitalize()} is\", len(result))\n",
      "/home/flo/.local/lib/python3.10/site-packages/sklearn/metrics/_classification.py:1509: UndefinedMetricWarning: Precision is ill-defined and being set to 0.0 in labels with no predicted samples. Use `zero_division` parameter to control this behavior.\n",
      "  _warn_prf(average, modifier, f\"{metric.capitalize()} is\", len(result))\n"
     ]
    }
   ],
   "source": [
    "from sklearn.naive_bayes import MultinomialNB\n",
    "\n",
    "# Multinomial Naive Bayes\n",
    "nb = MultinomialNB()\n",
    "naive_bayes = nb.fit(X_train, y_train)\n",
    "predicted = naive_bayes.predict(X_test)\n",
    "\n",
    "# Metrics\n",
    "from sklearn import metrics\n",
    "print(metrics.confusion_matrix(y_test, predicted))\n",
    "print(metrics.classification_report(y_test, predicted))"
   ]
  },
  {
   "cell_type": "code",
   "execution_count": 15,
   "metadata": {},
   "outputs": [
    {
     "ename": "AttributeError",
     "evalue": "'NoneType' object has no attribute 'transform'",
     "output_type": "error",
     "traceback": [
      "\u001b[0;31m---------------------------------------------------------------------------\u001b[0m",
      "\u001b[0;31mAttributeError\u001b[0m                            Traceback (most recent call last)",
      "Cell \u001b[0;32mIn[15], line 7\u001b[0m\n\u001b[1;32m      5\u001b[0m \u001b[38;5;66;03m# tokenize and vectorize it, then try to predict\u001b[39;00m\n\u001b[1;32m      6\u001b[0m test \u001b[38;5;241m=\u001b[39m tokenizer([example])\n\u001b[0;32m----> 7\u001b[0m test_tfidf \u001b[38;5;241m=\u001b[39m \u001b[43mvect\u001b[49m\u001b[38;5;241;43m.\u001b[39;49m\u001b[43mtransform\u001b[49m(test)\n\u001b[1;32m      8\u001b[0m \u001b[38;5;28mprint\u001b[39m(naive_bayes\u001b[38;5;241m.\u001b[39mpredict(test_tfidf))\n",
      "\u001b[0;31mAttributeError\u001b[0m: 'NoneType' object has no attribute 'transform'"
     ]
    }
   ],
   "source": [
    "example = '''\n",
    "awful\n",
    "'''\n",
    "\n",
    "# tokenize and vectorize it, then try to predict\n",
    "# test = tokenizer([example])\n",
    "# test_tfidf = vect.transform(test)\n",
    "# print(naive_bayes.predict(test_tfidf))"
   ]
  },
  {
   "cell_type": "code",
   "execution_count": null,
   "metadata": {},
   "outputs": [],
   "source": []
  }
 ],
 "metadata": {
  "kernelspec": {
   "display_name": "Python 3 (ipykernel)",
   "language": "python",
   "name": "python3"
  },
  "language_info": {
   "codemirror_mode": {
    "name": "ipython",
    "version": 3
   },
   "file_extension": ".py",
   "mimetype": "text/x-python",
   "name": "python",
   "nbconvert_exporter": "python",
   "pygments_lexer": "ipython3",
   "version": "3.10.12"
  }
 },
 "nbformat": 4,
 "nbformat_minor": 4
}
